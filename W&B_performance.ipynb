{
  "nbformat": 4,
  "nbformat_minor": 0,
  "metadata": {
    "colab": {
      "provenance": [],
      "include_colab_link": true
    },
    "kernelspec": {
      "name": "python3",
      "display_name": "Python 3"
    },
    "widgets": {
      "application/vnd.jupyter.widget-state+json": {
        "c46cbd17a919401b812195525d6a92e3": {
          "model_module": "@jupyter-widgets/controls",
          "model_name": "FloatSliderModel",
          "model_module_version": "1.5.0",
          "state": {
            "_dom_classes": [],
            "_model_module": "@jupyter-widgets/controls",
            "_model_module_version": "1.5.0",
            "_model_name": "FloatSliderModel",
            "_view_count": null,
            "_view_module": "@jupyter-widgets/controls",
            "_view_module_version": "1.5.0",
            "_view_name": "FloatSliderView",
            "continuous_update": true,
            "description": "Fuel (gallons)",
            "description_tooltip": null,
            "disabled": false,
            "layout": "IPY_MODEL_d0d28876bc70421d941bee4b47074ace",
            "max": 50,
            "min": 0,
            "orientation": "horizontal",
            "readout": true,
            "readout_format": ".2f",
            "step": 1,
            "style": "IPY_MODEL_4726b07e0df44adbbb99b467774869db",
            "value": 36
          }
        },
        "d0d28876bc70421d941bee4b47074ace": {
          "model_module": "@jupyter-widgets/base",
          "model_name": "LayoutModel",
          "model_module_version": "1.2.0",
          "state": {
            "_model_module": "@jupyter-widgets/base",
            "_model_module_version": "1.2.0",
            "_model_name": "LayoutModel",
            "_view_count": null,
            "_view_module": "@jupyter-widgets/base",
            "_view_module_version": "1.2.0",
            "_view_name": "LayoutView",
            "align_content": null,
            "align_items": null,
            "align_self": null,
            "border": null,
            "bottom": null,
            "display": null,
            "flex": null,
            "flex_flow": null,
            "grid_area": null,
            "grid_auto_columns": null,
            "grid_auto_flow": null,
            "grid_auto_rows": null,
            "grid_column": null,
            "grid_gap": null,
            "grid_row": null,
            "grid_template_areas": null,
            "grid_template_columns": null,
            "grid_template_rows": null,
            "height": null,
            "justify_content": null,
            "justify_items": null,
            "left": null,
            "margin": null,
            "max_height": null,
            "max_width": null,
            "min_height": null,
            "min_width": null,
            "object_fit": null,
            "object_position": null,
            "order": null,
            "overflow": null,
            "overflow_x": null,
            "overflow_y": null,
            "padding": null,
            "right": null,
            "top": null,
            "visibility": null,
            "width": null
          }
        },
        "4726b07e0df44adbbb99b467774869db": {
          "model_module": "@jupyter-widgets/controls",
          "model_name": "SliderStyleModel",
          "model_module_version": "1.5.0",
          "state": {
            "_model_module": "@jupyter-widgets/controls",
            "_model_module_version": "1.5.0",
            "_model_name": "SliderStyleModel",
            "_view_count": null,
            "_view_module": "@jupyter-widgets/base",
            "_view_module_version": "1.2.0",
            "_view_name": "StyleView",
            "description_width": "",
            "handle_color": null
          }
        },
        "6e7902679898475087f9314252bbfae6": {
          "model_module": "@jupyter-widgets/controls",
          "model_name": "FloatSliderModel",
          "model_module_version": "1.5.0",
          "state": {
            "_dom_classes": [],
            "_model_module": "@jupyter-widgets/controls",
            "_model_module_version": "1.5.0",
            "_model_name": "FloatSliderModel",
            "_view_count": null,
            "_view_module": "@jupyter-widgets/controls",
            "_view_module_version": "1.5.0",
            "_view_name": "FloatSliderView",
            "continuous_update": true,
            "description": "Pilot Weight (lbs)",
            "description_tooltip": null,
            "disabled": false,
            "layout": "IPY_MODEL_5d648fd9b40b4967afccbbc7ff2b6699",
            "max": 300,
            "min": 100,
            "orientation": "horizontal",
            "readout": true,
            "readout_format": ".2f",
            "step": 5,
            "style": "IPY_MODEL_a35a366474c54c378ea7b077e55d8130",
            "value": 220
          }
        },
        "5d648fd9b40b4967afccbbc7ff2b6699": {
          "model_module": "@jupyter-widgets/base",
          "model_name": "LayoutModel",
          "model_module_version": "1.2.0",
          "state": {
            "_model_module": "@jupyter-widgets/base",
            "_model_module_version": "1.2.0",
            "_model_name": "LayoutModel",
            "_view_count": null,
            "_view_module": "@jupyter-widgets/base",
            "_view_module_version": "1.2.0",
            "_view_name": "LayoutView",
            "align_content": null,
            "align_items": null,
            "align_self": null,
            "border": null,
            "bottom": null,
            "display": null,
            "flex": null,
            "flex_flow": null,
            "grid_area": null,
            "grid_auto_columns": null,
            "grid_auto_flow": null,
            "grid_auto_rows": null,
            "grid_column": null,
            "grid_gap": null,
            "grid_row": null,
            "grid_template_areas": null,
            "grid_template_columns": null,
            "grid_template_rows": null,
            "height": null,
            "justify_content": null,
            "justify_items": null,
            "left": null,
            "margin": null,
            "max_height": null,
            "max_width": null,
            "min_height": null,
            "min_width": null,
            "object_fit": null,
            "object_position": null,
            "order": null,
            "overflow": null,
            "overflow_x": null,
            "overflow_y": null,
            "padding": null,
            "right": null,
            "top": null,
            "visibility": null,
            "width": null
          }
        },
        "a35a366474c54c378ea7b077e55d8130": {
          "model_module": "@jupyter-widgets/controls",
          "model_name": "SliderStyleModel",
          "model_module_version": "1.5.0",
          "state": {
            "_model_module": "@jupyter-widgets/controls",
            "_model_module_version": "1.5.0",
            "_model_name": "SliderStyleModel",
            "_view_count": null,
            "_view_module": "@jupyter-widgets/base",
            "_view_module_version": "1.2.0",
            "_view_name": "StyleView",
            "description_width": "",
            "handle_color": null
          }
        },
        "13ceabbfd0214115b488c2b766e868ae": {
          "model_module": "@jupyter-widgets/controls",
          "model_name": "FloatSliderModel",
          "model_module_version": "1.5.0",
          "state": {
            "_dom_classes": [],
            "_model_module": "@jupyter-widgets/controls",
            "_model_module_version": "1.5.0",
            "_model_name": "FloatSliderModel",
            "_view_count": null,
            "_view_module": "@jupyter-widgets/controls",
            "_view_module_version": "1.5.0",
            "_view_name": "FloatSliderView",
            "continuous_update": true,
            "description": "Co-pilot Weight (lbs)",
            "description_tooltip": null,
            "disabled": false,
            "layout": "IPY_MODEL_2bb95643f0394abc97e1c1e1ded11ef3",
            "max": 300,
            "min": 0,
            "orientation": "horizontal",
            "readout": true,
            "readout_format": ".2f",
            "step": 5,
            "style": "IPY_MODEL_6775282433334a0593acb02949b5cbd2",
            "value": 190
          }
        },
        "2bb95643f0394abc97e1c1e1ded11ef3": {
          "model_module": "@jupyter-widgets/base",
          "model_name": "LayoutModel",
          "model_module_version": "1.2.0",
          "state": {
            "_model_module": "@jupyter-widgets/base",
            "_model_module_version": "1.2.0",
            "_model_name": "LayoutModel",
            "_view_count": null,
            "_view_module": "@jupyter-widgets/base",
            "_view_module_version": "1.2.0",
            "_view_name": "LayoutView",
            "align_content": null,
            "align_items": null,
            "align_self": null,
            "border": null,
            "bottom": null,
            "display": null,
            "flex": null,
            "flex_flow": null,
            "grid_area": null,
            "grid_auto_columns": null,
            "grid_auto_flow": null,
            "grid_auto_rows": null,
            "grid_column": null,
            "grid_gap": null,
            "grid_row": null,
            "grid_template_areas": null,
            "grid_template_columns": null,
            "grid_template_rows": null,
            "height": null,
            "justify_content": null,
            "justify_items": null,
            "left": null,
            "margin": null,
            "max_height": null,
            "max_width": null,
            "min_height": null,
            "min_width": null,
            "object_fit": null,
            "object_position": null,
            "order": null,
            "overflow": null,
            "overflow_x": null,
            "overflow_y": null,
            "padding": null,
            "right": null,
            "top": null,
            "visibility": null,
            "width": null
          }
        },
        "6775282433334a0593acb02949b5cbd2": {
          "model_module": "@jupyter-widgets/controls",
          "model_name": "SliderStyleModel",
          "model_module_version": "1.5.0",
          "state": {
            "_model_module": "@jupyter-widgets/controls",
            "_model_module_version": "1.5.0",
            "_model_name": "SliderStyleModel",
            "_view_count": null,
            "_view_module": "@jupyter-widgets/base",
            "_view_module_version": "1.2.0",
            "_view_name": "StyleView",
            "description_width": "",
            "handle_color": null
          }
        },
        "f0723700e4914b9aa947bc73004a476d": {
          "model_module": "@jupyter-widgets/controls",
          "model_name": "FloatSliderModel",
          "model_module_version": "1.5.0",
          "state": {
            "_dom_classes": [],
            "_model_module": "@jupyter-widgets/controls",
            "_model_module_version": "1.5.0",
            "_model_name": "FloatSliderModel",
            "_view_count": null,
            "_view_module": "@jupyter-widgets/controls",
            "_view_module_version": "1.5.0",
            "_view_name": "FloatSliderView",
            "continuous_update": true,
            "description": "Passenger 1 Weight (lbs)",
            "description_tooltip": null,
            "disabled": false,
            "layout": "IPY_MODEL_1312c33afb0b416b9bce1cd1c36501ef",
            "max": 300,
            "min": 0,
            "orientation": "horizontal",
            "readout": true,
            "readout_format": ".2f",
            "step": 5,
            "style": "IPY_MODEL_d446e8492bba43eeafb0e9d2dec25f65",
            "value": 185
          }
        },
        "1312c33afb0b416b9bce1cd1c36501ef": {
          "model_module": "@jupyter-widgets/base",
          "model_name": "LayoutModel",
          "model_module_version": "1.2.0",
          "state": {
            "_model_module": "@jupyter-widgets/base",
            "_model_module_version": "1.2.0",
            "_model_name": "LayoutModel",
            "_view_count": null,
            "_view_module": "@jupyter-widgets/base",
            "_view_module_version": "1.2.0",
            "_view_name": "LayoutView",
            "align_content": null,
            "align_items": null,
            "align_self": null,
            "border": null,
            "bottom": null,
            "display": null,
            "flex": null,
            "flex_flow": null,
            "grid_area": null,
            "grid_auto_columns": null,
            "grid_auto_flow": null,
            "grid_auto_rows": null,
            "grid_column": null,
            "grid_gap": null,
            "grid_row": null,
            "grid_template_areas": null,
            "grid_template_columns": null,
            "grid_template_rows": null,
            "height": null,
            "justify_content": null,
            "justify_items": null,
            "left": null,
            "margin": null,
            "max_height": null,
            "max_width": null,
            "min_height": null,
            "min_width": null,
            "object_fit": null,
            "object_position": null,
            "order": null,
            "overflow": null,
            "overflow_x": null,
            "overflow_y": null,
            "padding": null,
            "right": null,
            "top": null,
            "visibility": null,
            "width": null
          }
        },
        "d446e8492bba43eeafb0e9d2dec25f65": {
          "model_module": "@jupyter-widgets/controls",
          "model_name": "SliderStyleModel",
          "model_module_version": "1.5.0",
          "state": {
            "_model_module": "@jupyter-widgets/controls",
            "_model_module_version": "1.5.0",
            "_model_name": "SliderStyleModel",
            "_view_count": null,
            "_view_module": "@jupyter-widgets/base",
            "_view_module_version": "1.2.0",
            "_view_name": "StyleView",
            "description_width": "",
            "handle_color": null
          }
        },
        "31dbd3fd5bb44875844bbc58ae6b4c0c": {
          "model_module": "@jupyter-widgets/controls",
          "model_name": "FloatSliderModel",
          "model_module_version": "1.5.0",
          "state": {
            "_dom_classes": [],
            "_model_module": "@jupyter-widgets/controls",
            "_model_module_version": "1.5.0",
            "_model_name": "FloatSliderModel",
            "_view_count": null,
            "_view_module": "@jupyter-widgets/controls",
            "_view_module_version": "1.5.0",
            "_view_name": "FloatSliderView",
            "continuous_update": true,
            "description": "Passenger 2 Weight (lbs)",
            "description_tooltip": null,
            "disabled": false,
            "layout": "IPY_MODEL_92a6917a58ff4ce5b18a2a5aabde15fc",
            "max": 300,
            "min": 0,
            "orientation": "horizontal",
            "readout": true,
            "readout_format": ".2f",
            "step": 5,
            "style": "IPY_MODEL_80ad0b8b6d584880baff07e28b741fb6",
            "value": 95
          }
        },
        "92a6917a58ff4ce5b18a2a5aabde15fc": {
          "model_module": "@jupyter-widgets/base",
          "model_name": "LayoutModel",
          "model_module_version": "1.2.0",
          "state": {
            "_model_module": "@jupyter-widgets/base",
            "_model_module_version": "1.2.0",
            "_model_name": "LayoutModel",
            "_view_count": null,
            "_view_module": "@jupyter-widgets/base",
            "_view_module_version": "1.2.0",
            "_view_name": "LayoutView",
            "align_content": null,
            "align_items": null,
            "align_self": null,
            "border": null,
            "bottom": null,
            "display": null,
            "flex": null,
            "flex_flow": null,
            "grid_area": null,
            "grid_auto_columns": null,
            "grid_auto_flow": null,
            "grid_auto_rows": null,
            "grid_column": null,
            "grid_gap": null,
            "grid_row": null,
            "grid_template_areas": null,
            "grid_template_columns": null,
            "grid_template_rows": null,
            "height": null,
            "justify_content": null,
            "justify_items": null,
            "left": null,
            "margin": null,
            "max_height": null,
            "max_width": null,
            "min_height": null,
            "min_width": null,
            "object_fit": null,
            "object_position": null,
            "order": null,
            "overflow": null,
            "overflow_x": null,
            "overflow_y": null,
            "padding": null,
            "right": null,
            "top": null,
            "visibility": null,
            "width": null
          }
        },
        "80ad0b8b6d584880baff07e28b741fb6": {
          "model_module": "@jupyter-widgets/controls",
          "model_name": "SliderStyleModel",
          "model_module_version": "1.5.0",
          "state": {
            "_model_module": "@jupyter-widgets/controls",
            "_model_module_version": "1.5.0",
            "_model_name": "SliderStyleModel",
            "_view_count": null,
            "_view_module": "@jupyter-widgets/base",
            "_view_module_version": "1.2.0",
            "_view_name": "StyleView",
            "description_width": "",
            "handle_color": null
          }
        },
        "2f3e81de1c7542e6815b77c0cb3a7ff0": {
          "model_module": "@jupyter-widgets/controls",
          "model_name": "LabelModel",
          "model_module_version": "1.5.0",
          "state": {
            "_dom_classes": [],
            "_model_module": "@jupyter-widgets/controls",
            "_model_module_version": "1.5.0",
            "_model_name": "LabelModel",
            "_view_count": null,
            "_view_module": "@jupyter-widgets/controls",
            "_view_module_version": "1.5.0",
            "_view_name": "LabelView",
            "description": "",
            "description_tooltip": null,
            "layout": "IPY_MODEL_87cb63a0154d4b6b82c7752e783d649c",
            "placeholder": "​",
            "style": "IPY_MODEL_b6516738cd9442c48065ecc73755cf42",
            "value": "The aircraft is within the weight and balance limits."
          }
        },
        "87cb63a0154d4b6b82c7752e783d649c": {
          "model_module": "@jupyter-widgets/base",
          "model_name": "LayoutModel",
          "model_module_version": "1.2.0",
          "state": {
            "_model_module": "@jupyter-widgets/base",
            "_model_module_version": "1.2.0",
            "_model_name": "LayoutModel",
            "_view_count": null,
            "_view_module": "@jupyter-widgets/base",
            "_view_module_version": "1.2.0",
            "_view_name": "LayoutView",
            "align_content": null,
            "align_items": null,
            "align_self": null,
            "border": null,
            "bottom": null,
            "display": null,
            "flex": null,
            "flex_flow": null,
            "grid_area": null,
            "grid_auto_columns": null,
            "grid_auto_flow": null,
            "grid_auto_rows": null,
            "grid_column": null,
            "grid_gap": null,
            "grid_row": null,
            "grid_template_areas": null,
            "grid_template_columns": null,
            "grid_template_rows": null,
            "height": null,
            "justify_content": null,
            "justify_items": null,
            "left": null,
            "margin": null,
            "max_height": null,
            "max_width": null,
            "min_height": null,
            "min_width": null,
            "object_fit": null,
            "object_position": null,
            "order": null,
            "overflow": null,
            "overflow_x": null,
            "overflow_y": null,
            "padding": null,
            "right": null,
            "top": null,
            "visibility": null,
            "width": null
          }
        },
        "b6516738cd9442c48065ecc73755cf42": {
          "model_module": "@jupyter-widgets/controls",
          "model_name": "DescriptionStyleModel",
          "model_module_version": "1.5.0",
          "state": {
            "_model_module": "@jupyter-widgets/controls",
            "_model_module_version": "1.5.0",
            "_model_name": "DescriptionStyleModel",
            "_view_count": null,
            "_view_module": "@jupyter-widgets/base",
            "_view_module_version": "1.2.0",
            "_view_name": "StyleView",
            "description_width": ""
          }
        },
        "6f84493758374043a9e01e12889e2092": {
          "model_module": "@jupyter-widgets/output",
          "model_name": "OutputModel",
          "model_module_version": "1.0.0",
          "state": {
            "_dom_classes": [],
            "_model_module": "@jupyter-widgets/output",
            "_model_module_version": "1.0.0",
            "_model_name": "OutputModel",
            "_view_count": null,
            "_view_module": "@jupyter-widgets/output",
            "_view_module_version": "1.0.0",
            "_view_name": "OutputView",
            "layout": "IPY_MODEL_c7a1601a7c444fc28d406b29db216c33",
            "msg_id": "",
            "outputs": [
              {
                "output_type": "display_data",
                "data": {
                  "text/plain": "<Figure size 600x400 with 1 Axes>",
                  "image/png": "iVBORw0KGgoAAAANSUhEUgAAAi4AAAF4CAYAAABzdXKoAAAAOXRFWHRTb2Z0d2FyZQBNYXRwbG90bGliIHZlcnNpb24zLjcuMSwgaHR0cHM6Ly9tYXRwbG90bGliLm9yZy/bCgiHAAAACXBIWXMAAA9hAAAPYQGoP6dpAABkZ0lEQVR4nO3dd1gUV9sG8HvoTUCUqiAo2HuMBjUCEQUxaNS8aDT2qIkae31jjS0aY9TEWFIs72eJSYw1YhTBHqxYoqIoigXEiIAgfc/3x4bRFRZZ3AUW7991zZXdmWdnnrNZdx/OnDkjCSEEiIiIiPSAQVknQERERFRcLFyIiIhIb7BwISIiIr3BwoWIiIj0BgsXIiIi0hssXIiIiEhvsHAhIiIivcHChYiIiPQGCxciIiLSGyxciIiISG+UaeFy+PBhBAcHw8XFBZIkYfv27fK2nJwcTJ48GY0aNYKlpSVcXFzQr18/3L9/X2UfSUlJ6NOnD6ytrWFra4vBgwcjLS2tlFtCREREpaFMC5f09HQ0adIEK1asKLDt6dOnOHv2LKZPn46zZ89i27ZtiI6ORpcuXVTi+vTpg7///hv79+/H7t27cfjwYQwdOrS0mkBERESlSCovN1mUJAm///473nvvPbUxp06dQsuWLXH79m24ubnhypUrqF+/Pk6dOoUWLVoAAEJDQxEUFIS7d+/CxcWllLInIiKi0mBU1gloIiUlBZIkwdbWFgBw4sQJ2NraykULAPj7+8PAwACRkZHo1q1bofvJyspCVlaW/FyhUCApKQlVqlSBJEk6bQMREVFFIoTAkydP4OLiAgMD3Z/I0ZvCJTMzE5MnT8YHH3wAa2trAEBCQgIcHBxU4oyMjGBnZ4eEhAS1+1qwYAFmz56t03yJiIheJ3fu3EH16tV1fhy9KFxycnIQEhICIQRWrlz5yvubOnUqxo0bJz9PSUmBm5sb7ty5IxdFRERE9HKpqalwdXVFpUqVSuV45b5wyS9abt++jYMHD6oUFk5OTkhMTFSJz83NRVJSEpycnNTu09TUFKampgXWW1tbs3AhIqJXl/sU2Pem8nHAKcDIomzzKQWlNdSiXM/jkl+0XL9+HQcOHECVKlVUtnt7eyM5ORlnzpyR1x08eBAKhQKtWrUq7XSJiIj+JYCUy8oF5eIamAqjTHtc0tLSEBMTIz+PjY1FVFQU7Ozs4OzsjPfffx9nz57F7t27kZeXJ49bsbOzg4mJCerVq4fAwEAMGTIEq1atQk5ODkaOHIlevXrxiiIiIqIKqEwvh46IiICfn1+B9f3798esWbPg4eFR6OvCw8Ph6+sLQDkB3ciRI7Fr1y4YGBigR48eWL58OaysrIqdR2pqKmxsbJCSksJTRURE9Opy04Gt//4OhaQBRpZlm48OlfZvaJn2uPj6+qKouqk4NZWdnR02bdqkzbTU5pKbm4u8vDydH4tIU8bGxjA0NCzrNIiIdK7cD84tD7KzsxEfH4+nT5+WdSpEhZIkCdWrV9eop5GISB+xcHkJhUKB2NhYGBoawsXFBSYmJpykjsoVIQQePnyIu3fvwsvLiz0vRFShsXB5iezsbCgUCri6usLCouJfzkb6yd7eHrdu3UJOTg4LF6JyQQIsazx7TFrDwqWYSmMaY6KSYi8gUTljZAF0vVXWWVRI/DUmIiIivcHChYiIiPQGCxciIiJty80AQt9ULrkZZZ1NhcLCpQJLSEjAp59+ipo1a8LU1BSurq4IDg5GWFhYWadWJEmSsH379mLFhoeHIygoCFWqVIGFhQXq16+P8ePH4969e3KMEALff/89vL29YW1tDSsrKzRo0ACjR49WmbmZiEh7FEDSaeUCRVknU6GwcCkleXlARASwebPyv7qex+7WrVt44403cPDgQXz55Ze4ePEiQkND4efnhxEjRpR4v/kT8b0oOzv7VdItkdWrV8Pf3x9OTk747bffcPnyZaxatQopKSn46quvACjz7d27N0aNGoWgoCD8+eefuHz5Mn788UeYmZlh7ty5pZ43ERG9AkEiJSVFABApKSkFtmVkZIjLly+LjIyMEu//t9+EqF5dCODZUr26cr2udOrUSVSrVk2kpaUV2Pb48WMhhBCxsbECgDh37pzKNgAiPDxcCCFEeHi4ACD++OMP0bx5c2FsbCzCw8OFj4+PGDFihBg9erSoUqWK8PX1FUIIcfHiRREYGCgsLS2Fg4OD+PDDD8XDhw/l/fv4+IhPP/1UTJw4UVSuXFk4OjqKmTNnyttr1KghoLwjmQAgatSoUWj77ty5I0xMTMSYMWMK3Z7fxs2bNwsAYseOHYXGKRSKQtfrG218TolIi3LShNgI5ZJT8Hu4IinqN1QX2OOiY9u2Ae+/D9y9q7r+3j3l+m3btH/MpKQkhIaGYsSIEbC0LHh/DFtbW433OWXKFHzxxRe4cuUKGjduDABYv349TExMcOzYMaxatQrJycl455130KxZM5w+fRqhoaF48OABQkJCVPa1fv16WFpaIjIyEosWLcLnn3+O/fv3AwBOnToFAFi7di3i4+Pl5y/65ZdfkJ2djUmTJhW6Pb+NmzdvRp06ddClS5dC43gZMRGRfuE8LjqUlweMHq3sY3mREIAkAWPGAF27AtqcMywmJgZCCNStW1dr+/z888/RoUMHlXVeXl5YtGiR/Hzu3Llo1qwZ5s+fL6/76aef4OrqimvXrqF27doAgMaNG2PmzJnyPr799luEhYWhQ4cOsLe3B6AsPJycnNTmc/36dVhbW8PZ2bnIvK9du4Y6deqorBszZgx++OEH+Th3X6wqiYio3GKPiw4dOVKwp+V5QgB37ijjtEno4IbfLVq0KLDujTfeUHl+/vx5hIeHw8rKSl7yi6cbN27Icfk9NvmcnZ2RmJioUT5CiBL3lnz22WeIiorCjBkzkJaWVqJ9EBFR2WCPiw7Fx2s3rri8vLwgSRKuXr1aZFz+bMDPFzo5OTmFxhZ2yunFdWlpaQgODsbChQsLxD7fM2JsbKyyTZIkKBSajbqvXbs2UlJSEB8fX2Svi5eXF6Kjo1XW2dvbw97eHg4ODhodk4hII6ZVyzqDCok9Ljr0krMYGscVl52dHQICArBixQqkp6cX2J6cnAwA8mmZ+Ocqp6ioqBIft3nz5vj777/h7u4OT09PlaWwwkcdY2Nj5L3ksqv3338fJiYmKqeqnpffxg8++ADR0dHYsWNHsY9PRPTKjCyBHg+Vi1Hxv//o5Vi46NDbbwPVqyvHshRGkgBXV2Wctq1YsQJ5eXlo2bIlfvvtN1y/fh1XrlzB8uXL4e3tDQAwNzfHW2+9JQ+6PXToEKZNm1biY44YMQJJSUn44IMPcOrUKdy4cQP79u3DwIEDX1qIPM/d3R1hYWFISEjA48ePC41xdXXF119/jWXLlmHw4ME4dOgQbt++jWPHjmHYsGGYM2cOAKBXr154//330atXL3z++eeIjIzErVu3cOjQIfz888+8ISERkZ5h4aJDhobAsmXKxy8WL/nPly7V7sDcfDVr1sTZs2fh5+eH8ePHo2HDhujQoQPCwsKwcuVKOe6nn35Cbm4u3njjDYwZM+aV5jVxcXHBsWPHkJeXh44dO6JRo0YYM2YMbG1tNbpJ5VdffYX9+/fD1dUVzZo1Uxs3fPhw/Pnnn7h37x66deuGunXr4qOPPoK1tTUmTJgAQHka6ueff8bSpUvxxx9/oH379qhTpw4GDRoEV1dXHD16tMTtJSKi0icJXYzk1DOpqamwsbFBSkoKrK2tVbZlZmYiNjYWHh4eMDMzK9H+t21TXl30/EBdV1dl0dK9+yskTvQvbXxOiUiLcjOAiE7Kx757ASPzss1Hh4r6DdUFDs4tBd27Ky95PnJEORDX2Vl5eohnKYiIKioFkHjo2WPSGhYupcTQEPD1LessiIiI9BvHuBAREZHeYOFCREREeoOFCxEREekNFi5ERESkNzg4l4iISBcMLco6gwqJhQsREZG2GVkCPQvecoVeHU8VERERkd4o08Ll8OHDCA4OhouLCyRJwvbt21W2b9u2DR07dkSVKlUgSVKhNwD09fWFJEkqy8cff1w6DahAfH19MWbMmLJO45XcunVL7edEExXhvSAiqqjKtHBJT09HkyZNsGLFCrXb27Zti4ULFxa5nyFDhiA+Pl5e1N0x+HUyYMAAtUXciBEjIEkSBgwYIK/btm2bfGPCV5GQkIBPP/0UNWvWhKmpKVxdXREcHIywsDCVuHPnzqFnz55wdnaGqakpatSogXfffRe7du1CUXehKKqocHV1RXx8PBo2bPhKbXjxvXB3d8fSpUtfaZ9E9JrJywQiOiuXvMyyzqZCKdMxLp06dUKnTp3Ubu/bty8A5V/SRbGwsICTk5M2U6sQXF1dsWXLFnz99dcwN1feJyMzMxObNm2Cm5ubSqydnd0rH+/WrVto06YNbG1t8eWXX6JRo0bIycnBvn37MGLECFy9ehUAsGPHDoSEhMDf3x/r16+Hp6cnsrKycPz4cUybNg1vv/02bG1tNT6+oaGhVj4H2ngviOg1J/KA+388e0xaUyHGuGzcuBFVq1ZFw4YNMXXqVDx9+rTI+KysLKSmpqosmkrPTle7ZOZmFjs2IyejWLEl0bx5c7i6umLbtm3yum3btsHNza3AXZdf7Mlwd3fH/PnzMWjQIFSqVAlubm5Ys2ZNkccbPnw4JEnCyZMn0aNHD9SuXRsNGjTAuHHj8Ndffynbl56OwYMHo3PnztizZw86duyImjVrol69ehg8eDDOnz8PGxubErX3xVNFERERkCQJ+/btQ7NmzWBubo533nkHiYmJ2Lt3L+rVqwdra2v07t1b5TPz/Hvh6+uL27dvY+zYsfKpSCIiKjt6f1VR7969UaNGDbi4uODChQuYPHkyoqOjVX6sX7RgwQLMnj37lY5rtcBK7bYgryDs6b1Hfu6w2AFPcwovpnxq+CBiQIT83H2ZO/55+k+BODGzZDfxHjRoENauXYs+ffoAAH766ScMHDgQERERRb8QwFdffYU5c+bgv//9L3799Vd88skn8PHxQZ06dQrEJiUlITQ0FPPmzYOlpWWB7fk9KH/++ScePXqESZMmqT2utouDWbNm4dtvv4WFhQVCQkIQEhICU1NTbNq0CWlpaejWrRu++eYbTJ48ucBrt23bhiZNmmDo0KEYMmSIVvMiIiLN6X2Py9ChQxEQEIBGjRqhT58+2LBhA37//XfcuHFD7WumTp2KlJQUeblz504pZly6PvzwQxw9ehS3b9/G7du3cezYMXz44YfFem1QUBCGDx8OT09PTJ48GVWrVkV4eHihsTExMRBCoG7dukXu89q1awCgUvycOnUKVlZW8rJ79+5itq545s6dizZt2qBZs2YYPHgwDh06hJUrV6JZs2Z4++238f7776ttl52dHQwNDVGpUiU4OTnxlCQRURnT+x6XF7Vq1QqA8oe0Vq1ahcaYmprC1NT0lY6TNjVN7TZDA0OV54kTEtXGGkiqteOt0bdeKa8X2dvbo3Pnzli3bh2EEOjcuTOqVq1arNc2btxYfixJEpycnJCYWHhbihpQW5zj5J/e8fLyQm5ubon3pW7/+RwdHWFhYYGaNWuqrDt58qRWj0lERLpR4QqX/B9AZ2dnnR7H0qTg6ZDSji2uQYMGYeTIkQCg9gquwhgbG6s8lyQJCoWi0FgvLy9IkiQPwFXHy8sLABAdHY233noLgLKQ9PT0LHZemnq+HZIkadQuIiIqX8r0VFFaWhqioqLkYiM2NhZRUVGIi4sDoBw3ERUVhcuXLwNQ/thFRUUhISEBAHDjxg3MmTMHZ86cwa1bt7Bz507069cP7dq1U/kr+3UXGBiI7Oxs5OTkICAgQCfHsLOzQ0BAAFasWIH09IKDiZOTkwEAHTt2hJ2d3UsvcS9PTExMkJfHqwKIiMqDMu1xOX36NPz8/OTn48aNAwD0798f69atw86dOzFw4EB5e69evQAAM2fOxKxZs2BiYoIDBw5g6dKlSE9Ph6urK3r06IFp06aVbkPKOUNDQ1y5ckV+rCsrVqxAmzZt0LJlS3z++edo3LgxcnNzsX//fqxcuRJXrlyBlZUVfvjhB/Ts2ROdO3fGqFGj4OXlhbS0NISGhhYrx4cPHxaYZE6XPWzu7u44fPgwevXqBVNT02KfaiOi15iRJdC75KfQSb0yLVx8fX2LHBsxYMAAlUnSXuTq6opDhw7pILOKx9raWufHqFmzJs6ePYt58+Zh/PjxiI+Ph729Pd544w2sXLlSjuvWrRuOHz+OhQsXol+/fkhKSoKNjQ1atGiBLVu24N133y3yOJs2bcKmTZtU1s2ZM6fYg4419fnnn2PYsGGoVasWsrKyXmk8DxERvRpJ8FsYqampsLGxQUpKSoEf+MzMTMTGxsLDwwNmZmZllCFR0fg5JaKyUtRvqC7o/eXQRERE5U5eJnDkP8qFU/5rVYW7qoiIiKjMiTzgzq//Pl5XpqlUNOxxISIiIr3BwoWIiIj0BgsXIiIi0hssXIiIiEhvsHAhIiIivcHChYiIiPQGL4cmIiLSNkMLICTt2WPSGva4UIXm7u6OpUuXvtI+Zs2ahaZNm2olHyJ6TUiS8n5FRpbKx6Q1LFwqqAEDBkCSJHz88ccFto0YMQKSJBV5Hyhtyc7OxqJFi9CkSRNYWFigatWqaNOmDdauXYucnBw5LiEhAaNHj4anpyfMzMzg6OiINm3aYOXKlXj69Kna/b+sqDh16hSGDh36Sm2YMGECwsLC5OcDBgzAe++990r7JCKikuGpogrM1dUVW7Zswddffw1zc3MAynvabNq0CW5ubjo/fnZ2NgICAnD+/HnMmTMHbdq0gbW1Nf766y8sXrwYzZo1Q9OmTXHz5k20adMGtra2mD9/Pho1agRTU1NcvHgRa9asQbVq1dClS5cS5WBvb//K7bCysoKVldUr74eIXiN5WcDJYcrHLVcDhqZlm08Fwh6XkkpPV79kZhY/NiOjeLEl0Lx5c7i6umLbtm3yum3btsHNzQ3NmjVTiQ0NDUXbtm1ha2uLKlWq4N1338WNGzfk7Rs2bICVlRWuX78urxs+fDjq1q2rtkdk6dKlOHz4MMLCwjBixAg0bdoUNWvWRO/evREZGQkvLy95P0ZGRjh9+jRCQkJQr1491KxZE127dsWePXsQHBxcovYDBU8VSZKE1atX491334WFhQXq1auHEydOICYmBr6+vrC0tETr1q1V2v58r86sWbOwfv167NixA5IkQZIkRERElDg/IqqgRC4Qu165iNyyzqZCYeFSUlZW6pcePVRjHRzUx3bqpBrr7l54XAkNGjQIa9eulZ//9NNPGDhwYIG49PR0jBs3DqdPn0ZYWBgMDAzQrVs3KBQKAEC/fv0QFBSEPn36IDc3F3v27MEPP/yAjRs3wsKi8IFnGzduhL+/f4EiCQCMjY1haWmJR48e4c8//8SIESNgaWlZ6H4kLZ8fnjNnDvr164eoqCjUrVsXvXv3xrBhwzB16lScPn0aQgiMHDmy0NdOmDABISEhCAwMRHx8POLj49G6dWut5kdEROqxcKngPvzwQxw9ehS3b9/G7du3cezYMXz44YcF4nr06IHu3bvD09MTTZs2xU8//YSLFy/i8uXLcszq1asRHx+PUaNGYfDgwZg1axbeeOMNtce+fv066tatW2R+MTExEEKgTp06KuurVq0qn6KZPHmyhq0u2sCBAxESEoLatWtj8uTJuHXrFvr06YOAgADUq1cPo0ePVtuLYmVlBXNzc5iamsLJyQlOTk4wMTHRan5ERKQex7iUVFqa+m2GhqrPExPVxxq8UDveulXilApjb2+Pzp07Y926dRBCoHPnzqhatWqBuOvXr2PGjBmIjIzEP//8I/e0xMXFoWHDhgCAypUr48cff0RAQABat26NKVOmFHlsIUSJ8z558iQUCgX69OmDrKysEu+nMI0bN5YfOzo6AgAaNWqksi4zMxOpqamwtrbW6rGJiOjVsHApKTWnNUo1tpgGDRokn/pYsWJFoTHBwcGoUaMGvv/+e7i4uEChUKBhw4bIzs5WiTt8+DAMDQ0RHx+P9PR0VKpUSe1xa9eujatXrxaZm6enJyRJQnR0tMr6mjVrAoA8qFibjI2N5cf5p6EKW5dfvBERUfnBU0WvgcDAQGRnZyMnJwcBAQEFtj969AjR0dGYNm0a2rdvj3r16uHx48cF4o4fP46FCxdi165dsLKyUjsOJF/v3r1x4MABnDt3rsC2nJwcpKeno0qVKujQoQO+/fZbpJdwEHJpMzExQV5eXlmnQUT0WmLh8howNDTElStXcPnyZRi+eBoLylNAVapUwZo1axATE4ODBw9i3LhxKjFPnjxB3759MWrUKHTq1AkbN27Ezz//jF9//VXtcceMGYM2bdqgffv2WLFiBc6fP4+bN29i69ateOutt+QrlL777jvk5uaiRYsW+Pnnn3HlyhVER0fj//7v/3D16tVCc35eRkYGoqKiVJbnrwrSNnd3d1y4cAHR0dH4559/VOajISIi3eKpotdEUWM1DAwMsGXLFowaNQoNGzZEnTp1sHz5cvj6+soxo0ePhqWlJebPnw9AOSZk/vz5GDZsGLy9vVGtWrUC+zU1NcX+/fvx9ddfY/Xq1ZgwYYJ8CXL+sQCgVq1aOHfuHObPn4+pU6fi7t27MDU1Rf369TFhwgQMHz68yLZdu3atwJVL7du3x4EDB4r79mhkyJAhiIiIQIsWLZCWlobw8HCV94qICIYWQPfEZ49JayShwQhKhUKBQ4cO4ciRI7h9+zaePn0Ke3t7NGvWDP7+/nB1ddVlrjqTmpoKGxsbpKSkFPiBz8zMRGxsLDw8PGBmZlZGGRIVjZ9TIiorRf2G6kKxThVlZGRg7ty5cHV1RVBQEPbu3Yvk5GQYGhoiJiYGM2fOhIeHB4KCgvDXX3/pOmciIiJ6TRXrVFHt2rXh7e2N77//Hh06dFC5AiPf7du3sWnTJvTq1QufffYZhgwZovVkiYiI9EJeFnD237GCzZdwyn8tKtapoitXrqBevXrF2mFOTg7i4uJQq1atV06utPBUEek7fk6JypncdGDrv7Oeh6Qp7xJdQZXLU0XFLVoA5XwY+lS0EBERkf7Q+HLo0NBQHD16VH6+YsUKNG3aFL179y507g8iIiIibdG4cJk4cSJSU1MBABcvXsT48eMRFBSE2NjYAnN/EBEREWmTxoVLbGws6tevDwD47bff8O6772L+/PlYsWIF9u7dq9G+Dh8+jODgYLi4uECSJGzfvl1l+7Zt29CxY0dUqVIFkiQhKiqqwD4yMzMxYsQIVKlSBVZWVujRowcePHigabOIiIhID2hcuJiYmODp06cAgAMHDqBjx44AADs7O7knprjS09PRpEkTtffPSU9PR9u2bbFw4UK1+xg7dix27dqFX375BYcOHcL9+/fRvXt3jfIgIiIi/aDxzLlt27bFuHHj0KZNG5w8eRI///wzAOXspdWrV9doX506dUKnTp3Ubu/bty8A4JaaOyanpKTgxx9/xKZNm/DOO+8AANauXYt69erhr7/+wltvvaVRPkRERFS+adzj8u2338LIyAi//vorVq5cKU/1vnfvXgQGBmo9waKcOXMGOTk58Pf3l9fVrVsXbm5uOHHihNrXZWVlITU1VWUh/VHYacWiREREQJIkJCcn6yynfO7u7li6dOkr7WPWrFlo2rSpVvIhojJiaA50iVUuhtq/y/3rTOPCxc3NDbt378b58+cxePBgef3XX3+N5cuXazW5l0lISICJiQlsbW1V1js6OiIhIUHt6xYsWAAbGxt50ddbFRRlwIABkCQJH3/8cYFtI0aMgCRJGDBggM6Of/XqVUiSVGAm5bfeegtmZmbIzMyU12VmZsLMzAw//vhjsfYdHx9fZE9dSRS3WHhZ3KlTpzB06NBXymXChAkICwuTnw8YMADvvffeK+2TiEqZZABYuSsXifcz1qYSvZs3btzAtGnT8MEHHyAxUXkTqb179+Lvv//WanK6MnXqVKSkpMjLnTt3yjolnXB1dcWWLVuQkZEhr8vMzMSmTZvg5uam02PXrVsXTk5OiIiIkNc9efIEZ8+ehb29vUpBc+LECWRlZcmn+17GyckJpqblcxZKe3t7WFi82g3VrKysUKVKFS1lRERUsWhcuBw6dAiNGjVCZGQktm3bhrS0NADA+fPnMXPmTK0nWBQnJydkZ2cXOAXw4MEDODk5qX2dqakprK2tVRaN5aarX/Iyix+bm1G82BJo3rw5XF1dsW3bNnndtm3b4ObmVuBuyqGhoWjbti1sbW1RpUoVvPvuu7hx44a8fcOGDbCyssL169fldcOHD0fdunXlwdov8vPzUylcjh49itq1ayM4OFhlfUREBGrUqAEPDw8AwI4dO9C8eXOYmZmhZs2amD17NnJzc+X4F08VHT9+HE2bNoWZmRlatGiB7du3F3oV2pkzZ9CiRQtYWFigdevWiI6OBgCsW7cOs2fPxvnz5yFJEiRJwrp164p8b9V58VSRJElYvXo13n33XfnO2CdOnEBMTAx8fX1haWmJ1q1bq7zXz/fqzJo1C+vXr8eOHTvk3J5/74ionMrLBs5NVC552WWdTYWiceEyZcoUzJ07F/v374eJiYm8/p133in1Gyy+8cYbMDY2VulWj46ORlxcHLy9vXV78K1W6pcjPVRjf3NQHxvxwimPHe6Fx5XQoEGDsHbtWvn5Tz/9hIEDBxaIS09Px7hx43D69GmEhYXBwMAA3bp1g0KhAAD069cPQUFB6NOnD3Jzc7Fnzx788MMP2Lhxo9oeBj8/Pxw9elQuOsLDw+Hr6wsfHx+Eh4fLceHh4fDz8wMAHDlyBP369cPo0aNx+fJlrF69GuvWrcO8efMKPUZqaiqCg4PRqFEjnD17FnPmzMHkyZMLjf3ss8/w1Vdf4fTp0zAyMsKgQYMAAD179sT48ePRoEEDxMfHIz4+Hj179nzZW1tsc+bMQb9+/RAVFYW6deuid+/eGDZsGKZOnYrTp09DCIGRI0cW+toJEyYgJCQEgYGBcm6tW7fWWm5EpCMiB7iyWLmInLLOpkLR+KqiixcvYtOmTQXWOzg44J9//tFoX2lpaYiJiZGfx8bGIioqCnZ2dnBzc0NSUhLi4uJw//59AJD/QnZycoKTkxNsbGwwePBgjBs3DnZ2drC2tsann34Kb29vXlH0rw8//BBTp07F7du3AQDHjh3Dli1bCvzV3qOHarH1008/wd7eHpcvX0bDhg0BAKtXr0bjxo0xatQobNu2DbNmzcIbb7yh9th+fn5IT0/HqVOn4O3tjYiICEycOBFt27ZF//79kZmZCSEETp48iY8++ggAMHv2bEyZMgX9+/cHANSsWRNz5szBpEmTCu3R27RpEyRJwvfffw8zMzPUr18f9+7dK/Qmn/PmzYOPjw8AZQHeuXNnZGZmwtzcHFZWVjAyMiqyp66kBg4ciJCQEADA5MmT4e3tjenTpyMgIAAAMHr06EKLSUB52sjc3BxZWVk6yY2ISN9oXLjY2toiPj5e7tbPd+7cOfkKo+I6ffq0/Jc2AHnm3f79+2PdunXYuXOnyhd6r169AAAzZ87ErFmzACgHBRsYGKBHjx7IyspCQEAAvvvuO02bpbmQNPXbJEPV5z0Si9jRC51eXW+VNKNC2dvbo3Pnzli3bh2EEOjcuTOqVq1aIO769euYMWMGIiMj8c8//8g9LXFxcXLhUrlyZfz4448ICAhA69atMWXKlCKP7enpierVqyMiIgINGjTAuXPn4OPjAwcHB/nKLyEEsrKy5M/B+fPncezYMZUelry8PGRmZuLp06cFeneio6PRuHFjlRsLtmzZstB8GjduLD92dnYGACQmJup8vM/zx3V0dAQANGrUSGVdZmYmUlNTS+UGZURE+kzjwqVXr16YPHkyfvnlF0iSBIVCgWPHjmHChAno16+fRvvy9fVFUTenHjBgwEuvfDEzM8OKFSvUTmKnM5rc6VNXscU0aNAg+VSEuvcpODgYNWrUwPfffw8XFxcoFAo0bNgQ2dmq52YPHz4MQ0NDxMfHIz09HZUqVSry2L6+vggPD0fjxo3h5eUFBwcHAJBPFwkh4OnpKV/ZlZaWhtmzZxc6ieCr3vXY2NhYfixJEgDIBZouFXbcssqFiEjfaTzGZf78+ahbty5cXV2RlpaG+vXro127dmjdujWmTZumixzpFQUGBiI7Oxs5OTny6YnnPXr0CNHR0Zg2bRrat2+PevXqFXrDzOPHj2PhwoXYtWsXrKys1I7LeJ6fnx+OHz+O/fv3w9fXV17frl07REREICIiQqXXrXnz5oiOjoanp2eBxcCg4Me1Tp06uHjxIrKysuR1p06demleLzIxMUFeXp7GrysN5Tk3IqLSpnGPi4mJCb7//ntMnz4dly5dQlpaGpo1awYvLy9d5EdaYGhoiCtXrsiPX1S5cmVUqVIFa9asgbOzM+Li4gqcBnry5An69u2LUaNGoVOnTqhevTrefPNNBAcH4/3331d77PxxLj/99BO+//57eb2Pj488rmX48OHy+hkzZuDdd9+Fm5sb3n//fRgYGOD8+fO4dOkS5s6dW2D/vXv3xmeffYahQ4diypQpiIuLw+LFiwE868koDnd3d3mMVfXq1VGpUiW1l1xnZGQUuGKpUqVKqFWrVrGPpwl3d3fs27cP0dHRqFKlCmxsbFR6bIiIXiclnhXHzc0NQUFBCAkJYdGiB4q67NvAwABbtmzBmTNn0LBhQ4wdOxZffvmlSszo0aNhaWmJ+fPnA1CO0Zg/fz6GDRuGe/fuqT2uh4cHatSogSdPnsgDYwHl58fFxQXZ2dkqPTEBAQHYvXs3/vzzT7z55pt466238PXXX6NGjRpq27Vr1y5ERUWhadOm+OyzzzBjxgwAmp1a6tGjBwIDA+Hn5wd7e3ts3rxZbey1a9fQrFkzlWXYsGHFPpamhgwZgjp16qBFixawt7fHsWPHdHYsIqLyThJFDTIpRF5eHtatW4ewsDAkJiYWOC9/8OBBrSZYGlJTU2FjY4OUlJQCP+6ZmZmIjY2Fh4fHK4+xoNKxceNGDBw4ECkpKTA3fz2m2ubnlKicEQogRdnTDZt6FXr23KJ+Q3VB41NFo0ePxrp169C5c2c0bNhQo+54Il3YsGEDatasiWrVquH8+fOYPHkyQkJCXpuihYjKIckAsG1Q1llUSBoXLlu2bMHWrVsRFBSki3yINJaQkIAZM2YgISEBzs7O+M9//qN2wjoiItJvJRqc6+npqYtciEpk0qRJmDRpUlmnQUT0TF428LdyTCAa/BcwNCk6nopN45Nu48ePx7Jly4qcf4WIiOi1JnKAS7OVC6f816pi9bi8OBnYwYMHsXfvXjRo0KDAZZnP39CvImGhRuUZP59E9LooVuFiY2Oj8rxbt246SaY8yi/Mnj59ysGeVG7lz3Bc2Dw9REQVSbEKl+fvLvy6MTQ0hK2tLRITlfcbsrCw4JVUVK4oFAo8fPgQFhYWMDLSeNgaEZFe0fhbLjY2Frm5uQUmnbt+/TqMjY3h7u6urdzKjfy78uYXL0TljYGBAdzc3FhUE1GFp3HhMmDAAAwaNKhA4RIZGYkffvgBERER2sqt3JAkCc7OznBwcEBODgdZUfljYmJS6L2ciIgqGo0Ll3PnzqFNmzYF1r/11lvFuumePjM0NOQYAiIiojKkceEiSRKePHlSYH1KSgrvYEtERAQABmZAwMlnj0lrNO5bbteuHRYsWKBSpOTl5WHBggVo27atVpMjIiLSSwaGQJU3lYsBe+q1SeMel4ULF6Jdu3aoU6cO3n77bQDAkSNHkJqaqpc3WCQiIiL9oXGPS/369XHhwgWEhIQgMTERT548Qb9+/XD16lU0bNhQFzkSERHpl7xs4PKXyiUvu6yzqVAkwSk3S/2W3EREVMHlpgNbrZSPQ9IAI8uyzUeHSvs3tESzVSUnJ+PkyZNITEyEQqFQ2davXz+tJEZERET0Io0Ll127dqFPnz5IS0uDtbW1yoRXkiSxcCEiIiKdKdHdoQcNGoS0tDQkJyfj8ePH8pKUlKSLHImIiIgAlKBwuXfvHkaNGgULCwtd5ENERESklsaFS0BAAE6fPq2LXIiIiIiKpPEYl86dO2PixIm4fPkyGjVqBGNjY5XtXbp00VpyRERERM/T+HLoom7kJkmSXk77z8uhiYhIqxR5wMMjysf2b1fo2XPL/eXQL17+TERERC8wMAQcfcs6iwpJ4zEu2nT48GEEBwfDxcUFkiRh+/btKtuFEJgxYwacnZ1hbm4Of39/XL9+XSXG3d0dkiSpLF988UUptoKIiIhKS7F6XJYvX46hQ4fCzMwMy5cvLzJ21KhRxT54eno6mjRpgkGDBqF79+4Fti9atAjLly/H+vXr4eHhgenTpyMgIACXL1+Gmdmzu21+/vnnGDJkiPy8UqVKxc6BiIhI6xQ5QMwa5WPPoYCBcdHxVGzFGuPi4eGB06dPo0qVKvDw8FC/M0nCzZs3S5aIJOH333/He++9B0DZ2+Li4oLx48djwoQJAICUlBQ4Ojpi3bp16NWrFwBlj8uYMWMwZsyYEh0X4BgXIiLSMk75rzPF6nGJjY0t9LEuxcbGIiEhAf7+/vI6GxsbtGrVCidOnJALFwD44osvMGfOHLi5uaF3794YO3YsjIzUNy0rKwtZWVny89TUVN00goiIiLSqRPcqKg0JCQkAAEdHR5X1jo6O8jZAeWqqefPmsLOzw/HjxzF16lTEx8djyZIlave9YMECzJ49WzeJExERkc4Ua3DuF198gYyMjGLtMDIyEnv27HmlpDQxbtw4+Pr6onHjxvj444/x1Vdf4ZtvvlHpUXnR1KlTkZKSIi937twptXyJiIio5IpVuFy+fBlubm4YPnw49u7di4cPH8rbcnNzceHCBXz33Xdo3bo1evbsqZXBsU5OTgCABw8eqKx/8OCBvK0wrVq1Qm5uLm7duqU2xtTUFNbW1ioLERERlX/FKlw2bNiAAwcOICcnB71794aTkxNMTExQqVIlmJqaolmzZvjpp5/Qr18/XL16Fe3atXvlxDw8PODk5ISwsDB5XWpqKiIjI+Ht7a32dVFRUTAwMICDg8Mr50BERETlS7HHuDRp0gTff/89Vq9ejQsXLuD27dvIyMhA1apV0bRpU1StWlXjg6elpSEmJkZ+Hhsbi6ioKNjZ2cHNzQ1jxozB3Llz4eXlJV8O7eLiIl95dOLECURGRsLPzw+VKlXCiRMnMHbsWHz44YeoXLmyxvkQERFR+abxlP/aFBERAT8/vwLr+/fvj3Xr1kEIgZkzZ2LNmjVITk5G27Zt8d1336F27doAgLNnz2L48OG4evUqsrKy4OHhgb59+2LcuHEwNTUtdh68HJqIiLRKkQvE71M+dg4ADMrttTCvrLR/Q8u0cCkvWLgQERGVTGn/hpbplP9EREREmqi4fVdERERlRZED3NqofOzeh1P+axELFyIiIm1TZAN/DVQ+dvsPCxct0vhU0dq1a/H06VNd5EJERERUJI0LlylTpsDJyQmDBw/G8ePHdZETERERUaE0Llzu3buH9evX459//oGvry/q1q2LhQsXqtw/iIiIiEgXNC5cjIyM0K1bN+zYsQN37tzBkCFDsHHjRri5uaFLly7YsWMHFAqFLnIlIiKi19wrXQ7t6OiItm3bwtvbGwYGBrh48SL69++PWrVqISIiQkspEhERESmVqHB58OABFi9ejAYNGsDX1xepqanYvXs3YmNjce/ePYSEhKB///7azpWIiIhecxrPnBscHIx9+/ahdu3a+Oijj9CvXz/Y2dmpxCQmJsLJyUlvThlx5lwiItIqRS5w93fl4+rdOOW/Fmn8Tjo4OODQoUNF3qHZ3t4esbGxr5QYERGR3jIwUs7fQlqn8akiHx8fNG/evMD67OxsbNiwAQAgSRJq1Kjx6tkRERERPUfjU0WGhoaIj4+Hg4ODyvpHjx7BwcEBeXl5Wk2wNPBUERERaRVPFemMxu+kEAKSJBVYf/fuXdjY2GglKSIiIr2myAKOhigfh6RV6MKltBX7nWzWrBkkSYIkSWjfvj2MjJ69NC8vD7GxsQgMDNRJkkRERESABoXLe++9BwCIiopCQEAArKys5G0mJiZwd3dHjx49tJ4gERERUb5iFy4zZ84EALi7u6Nnz54wMzPTWVJEREREhdH4pBsnliMiIqKyUqzCxc7ODteuXUPVqlVRuXLlQgfn5ktKStJackRERETPK1bh8vXXX6NSpUry46IKFyIiIiJd0Xgel4qI87gQEZFWKXKAWxuVj937AAbGZZuPDpX2b6jGM+f6+/tj3bp1SE1N1UU+RERE+s/AGKg5QLlU4KKlLGhcuDRo0ABTp06Fk5MT/vOf/2DHjh3IycnRRW5EREREKjQuXJYtW4Z79+5h+/btsLS0RL9+/eDo6IihQ4fi0KFDusiRiIhIvyhygXt7lIsit6yzqVBeeYxLZmYmdu3ahXnz5uHixYu8VxEREVFuOrD134laQ9IAI8uyzUeHyv29ip6XkJCALVu24P/+7/9w4cIFtGzZUlt5ERERERWg8ami1NRUrF27Fh06dICrqytWrlyJLl264Pr16/jrr790kSMRERERgBL0uDg6OqJy5cro2bMnFixYgBYtWugiLyIiIqICNO5x2blzJ+7evYuvv/76lYuWw4cPIzg4GC4uLpAkCdu3b1fZLoTAjBkz4OzsDHNzc/j7++P69esqMUlJSejTpw+sra1ha2uLwYMHIy0t7ZXyIiIiovJJ48KlQ4cOMDDQ+GWFSk9PR5MmTbBixYpCty9atAjLly/HqlWrEBkZCUtLSwQEBCAzM1OO6dOnD/7++2/s378fu3fvxuHDhzF06FCt5EdERETlS4muKvr111+xdetWxMXFITs7W2Xb2bNnS5aIJOH333/He++9B0DZ2+Li4oLx48djwoQJAICUlBQ4Ojpi3bp16NWrF65cuYL69evj1KlTcu9PaGgogoKCcPfuXbi4uBTr2LyqiIiItIpXFemMxl0ny5cvx8CBA+Ho6Ihz586hZcuWqFKlCm7evIlOnTppLbHY2FgkJCTA399fXmdjY4NWrVrhxIkTAIATJ07A1tZW5ZSVv78/DAwMEBkZqXbfWVlZSE1NVVmIiIi0xsAEaPGtcjEwKetsKhSNC5fvvvsOa9aswTfffAMTExNMmjQJ+/fvx6hRo5CSkqK1xBISEgAoBwM/z9HRUd6WkJAABwcHle1GRkaws7OTYwqzYMEC2NjYyIurq6vW8iYiIoKBMVB7hHLhlP9apXHhEhcXh9atWwMAzM3N8eTJEwBA3759sXnzZu1mpyNTp05FSkqKvNy5c6esUyIiIqJi0LhwcXJyQlJSEgDAzc1NnrslNjYW2rzRtJOTEwDgwYMHKusfPHggb3NyckJiYqLK9tzcXCQlJckxhTE1NYW1tbXKQkREpDWKPOBBhHJR6N+M8uWZxoXLO++8g507dwIABg4ciLFjx6JDhw7o2bMnunXrprXEPDw84OTkhLCwMHldamoqIiMj4e3tDQDw9vZGcnIyzpw5I8ccPHgQCoUCrVq10louREREGlFkAmF+ykWR+fJ4KjaNJ6Bbs2YNFAoFAGDEiBGoUqUKjh8/ji5dumDYsGEa7SstLQ0xMTHy89jYWERFRcHOzg5ubm4YM2YM5s6dCy8vL3h4eGD69OlwcXGRrzyqV68eAgMDMWTIEKxatQo5OTkYOXIkevXqVewrioiIiEh/aHQ5dG5uLubPn49BgwahevXqr3zwiIgI+Pn5FVjfv39/rFu3DkIIzJw5E2vWrEFycjLatm2L7777DrVr15Zjk5KSMHLkSOzatQsGBgbo0aMHli9fDisrq2LnwcuhiYhIq3g5tM5oPI+LlZUVLl26BHd3dx2lVPpYuBARkVaxcNEZjce4tG/fHocOHdJFLkRERERF0niMS6dOnTBlyhRcvHgRb7zxBiwtVavILl26aC05IiIioudpfKqoqPsUSZKEvDz9u+yLp4qIiEireKpIZzTuccm/ooiIiIjUkIyBpouePSat0bhwISIiopcwNAHqTyzrLCqkYhcuGRkZCAsLw7vvvgtAOW1+VlaWvN3Q0BBz5syBmZmZ9rMkIiIiggaFy/r167Fnzx65cPn222/RoEEDmJubAwCuXr0KFxcXjB07VjeZEhER6QtFHvD4rPJx5eaAgWHZ5lOBFPty6I0bN2Lo0KEq6zZt2oTw8HCEh4fjyy+/xNatW7WeIBERkd5RZAL7WioXTvmvVcUuXGJiYtCoUSP5uZmZmcoVRi1btsTly5e1mx0RERHRc4p9qig5OVllTMvDhw9VtisUCpXtRERERNpW7B6X6tWr49KlS2q3X7hwQSv3LyIiIiJSp9iFS1BQEGbMmIHMzILn6jIyMjB79mx07txZq8kRERERPa/YM+c+ePAATZs2hYmJCUaOHCnfoTk6OhrffvstcnNzce7cOTg6Ouo0YV3gzLlERKRVnDlXZ4o9xsXR0RHHjx/HJ598gilTpiC/3pEkCR06dMB3332nl0ULERER6Q+NZs718PBAaGgokpKSEBMTAwDw9PSEnZ2dTpIjIiLSS5Ix0HDms8ekNRrfZLEi4qkiIiKikint39BiD84lIiIiKmu8ySIREZG2CQWQckX52KYeILGfQFtYuBAREWlbXgbwR0Pl4wp+VVFpK1YJ2Lx5czx+/BgA8Pnnn+Pp06c6TYqIiIioMMUqXK5cuYL09HQAwOzZs5GWlqbTpIiIiIgKU6xTRU2bNsXAgQPRtm1bCCGwePFiWFlZFRo7Y8YMrSZIRERElK9Yhcu6deswc+ZM7N69G5IkYe/evTAyKvhSSZL0u3BJTwcMDQuuNzQEzMxU49QxMADMzUsW+/QpoO7qdEkCLCxKFpuRASgU6vOwtCxZbGYmkJennVgLC2XeAJCVBeTmaifW3Fz5PgNAdjaQk6OdWDOzZ58VTWJzcpTx6piaAvn/tjSJzc1VvhfqmJgAxsaax+blKf/fqWNsrIzXNFahUH7WtBFrZKR8LwDlv4miTmVrEqvJv3t+RxQe+zp/Rxg915bsbKCoexDr+3dEUZ9hXRAakiRJPHjwQNOXlWspKSkCgEhR/jMvuAQFqb7AwqLwOEAIHx/V2KpV1ce2aKEaW6OG+tj69VVj69dXH1ujhmpsixbqY6tWVY318VEfa2GhGhsUpD72xY/W++8XHZuW9iy2f/+iYxMTn8UOH150bGzss9gJE4qOvXTpWezMmUXHnjz5LHbRoqJjw8OfxX77bdGxu3c/i127tujYrVufxW7dWnTs2rXPYnfvLjr222+fxYaHFx27aNGz2JMni46dOfNZ7KVLRcdOmPAsNja26Njhw5/FJiYWHdu//7PYtLSiY99/X6goKpbfEcqF3xHPlr8OCbERyuXLuUXH6vl3RAogAIiUlBRRGjS+qkhRVKVNREREpEMlmjn3xo0bWLp0Ka5cUV6jXr9+fYwePRq1atXSeoKlQZ717/79wmf9Yzdw4bGvczcwTxUp8VSR5rH8jihZrL59RxgbAH//O3Si3kwgT1Ifq+ffEamJibBxcSm1mXM1Llz27duHLl26oGnTpmjTpg0A4NixYzh//jx27dqFDh066CRRXeKU/0RERCVT7qf8nzJlCsaOHYvIyEgsWbIES5YsQWRkJMaMGYPJkydrPcEnT55gzJgxqFGjBszNzdG6dWucOnVK3j5gwABIkqSyBAYGaj0PIiIiKnsaFy5XrlzB4MGDC6wfNGgQLl++rJWknvfRRx9h//79+N///oeLFy+iY8eO8Pf3x7179+SYwMBAxMfHy8vmzZu1ngcREVGxCQWQdku5CI4N1SaNCxd7e3tERUUVWB8VFQUHBwdt5CTLyMjAb7/9hkWLFqFdu3bw9PTErFmz4OnpiZUrV8pxpqamcHJykpfKlStrNQ8iIiKN5GUAOz2US14RY7RIYxpfVTRkyBAMHToUN2/eROvWrQEox7gsXLgQ48aN02pyubm5yMvLg9nzg94AmJub4+jRo/LziIgIODg4oHLlynjnnXcwd+5cVKlSRe1+s7KykPXcwKPU1FSt5k1ERES6ofHgXCEEli5diq+++gr3798HALi4uGDixIkYNWoUJKmIkdMl0Lp1a5iYmGDTpk1wdHTE5s2b0b9/f3h6eiI6OhpbtmyBhYUFPDw8cOPGDfz3v/+FlZUVTpw4AcPCJpMDMGvWLMyePbvAeg7OJSIirchNB7b+O8N8Bb/JYmkPzi3R5dD5njx5AgCoVKmS1hJ60Y0bNzBo0CAcPnwYhoaGaN68OWrXro0zZ87Il2M/7+bNm6hVqxYOHDiA9u3bF7rPwnpcXF1dWbgQEZF2sHDRGY3HuDyvUqVKOi1aAKBWrVo4dOgQ0tLScOfOHZw8eRI5OTmoWbNmofE1a9ZE1apVERMTo3afpqamsLa2VlmIiIio/HulwqU0WVpawtnZGY8fP8a+ffvQtWvXQuPu3r2LR48ewdnZuZQzJCIiIl3TeHBuadu3bx+EEKhTpw5iYmIwceJE1K1bFwMHDkRaWhpmz56NHj16wMnJCTdu3MCkSZPg6emJgICAsk6diIiItKzcFy4pKSmYOnUq7t69Czs7O/To0QPz5s2DsbExcnNzceHCBaxfvx7JyclwcXFBx44dMWfOHJjmT+tNRERU2iQjwGv4s8ekNRoNzs3JyUFgYCBWrVoFLy8vXeZVqjjlPxERUcmU68G5xsbGuHDhgq5yISIiIiqSxoNzP/zwQ/z444+6yIWIiKhiEALIfKhcSj7rCBVC4xNvubm5+Omnn3DgwAG88cYbsLRUvTZ9yZIlWkuOiIhIL+U9Bbb9exucCj6PS2nTuHC5dOkSmjdvDgC4du2ayjZtz5pLRERE9DyNC5fw8HBd5EFERET0UiWegC4mJgb79u1DRobyrpevcOcAIiIiomLRuHB59OgR2rdvj9q1ayMoKAjx8fEAgMGDB2P8+PFaT5CIiIgon8aFy9ixY2FsbIy4uDhYWFjI63v27InQ0FCtJkdERET0PI3HuPz555/Yt28fqlevrrLey8sLt2/f1lpiRERERC/SuHBJT09X6WnJl5SUxGn2iYiIAOU0/x79nz0mrdH4VNHbb7+NDRs2yM8lSYJCocCiRYvg5+en1eSIiIj0kqEp4L1OuRjyj3pt0rgMXLRoEdq3b4/Tp08jOzsbkyZNwt9//42kpCQcO3ZMFzkSERERAShBj0vDhg1x7do1tG3bFl27dkV6ejq6d++Oc+fOoVatWrrIkYiISL8IAeSmKxdOF6JVGt0dGgDi4uLg6upa6Cy5cXFxcHNz01pypYV3hyYiIq3KTQe2WikfV/Ap/8v13aEBwMPDAw8fPiyw/tGjR/Dw8NBKUkRERESF0bhwEUIU2tuSlpYGMzMzrSRFREREVJhiD84dN24cAOVVRNOnT1e5JDovLw+RkZFo2rSp1hMkIiIiylfswuXcuXMAlD0uFy9ehImJibzNxMQETZo0wYQJE7SfIREREdG/il245N8VeuDAgVi2bBkHsRIREVGp03gel7Vr1+oiDyIiIqKXKtGU/1988QXCwsKQmJgIhUKhsv3mzZtaS46IiEgvSYaA6/vPHpPWaFy4fPTRRzh06BD69u0LZ2fnQq8wIiIieq0ZmgFv/1LWWVRIGhcue/fuxZ49e9CmTRtd5ENERESklsaFS+XKlWFnZ6eLXIiIiPRGXh5w5AgQHw84OwNvvw0Y8qyQzmk8Ad2cOXMwY8YMPH36VBf5EBERlXvbtgHu7oCfH9C7t/K/7u7K9QCUU/5vkpRLbnoZZlrxaNzj8tVXX+HGjRtwdHSEu7s7jI2NVbafPXtWa8kRERGVN9u2Ae+/X/DeiffuKdf/+ivQvUvZ5PY60Lhwee+993SQBhERUfmXlweMHl34DZ+FACQJGDMG6NoZ4Fkj3dC4cJk5c6Yu8iAiIir3jhwB7t5Vv10I4M4d4NgxoF3ppfVa0XiMCwAkJyfjhx9+wNSpU5GUlARAeYro3r17Wk0OAJ48eYIxY8agRo0aMDc3R+vWrXHq1Cl5uxACM2bMgLOzM8zNzeHv74/r169rPQ8iIqL4+OLFJSToNo/XmcaFy4ULF1C7dm0sXLgQixcvRnJyMgBg27ZtmDp1qrbzw0cffYT9+/fjf//7Hy5evIiOHTvC399fLpIWLVqE5cuXY9WqVYiMjISlpSUCAgKQmZmp9VyIiOj15uxcvDgnJ93m8TrTuHAZN24cBgwYgOvXr8PMzExeHxQUhMOHD2s1uYyMDPz2229YtGgR2rVrB09PT8yaNQuenp5YuXIlhBBYunQppk2bhq5du6Jx48bYsGED7t+/j+3bt2s1FyIiorffBqpXV45lKYwkAa6uAKc60x2NC5dTp05h2LBhBdZXq1YNCVruG8vNzUVeXp5KgQQA5ubmOHr0KGJjY5GQkAB/f395m42NDVq1aoUTJ06o3W9WVhZSU1NVFiIiopcxNASWLVM+frF4yX++dClgaGQIuAQpF075r1UaFy6mpqaF/tBfu3YN9vb2WkkqX6VKleDt7Y05c+bg/v37yMvLw//93//hxIkTiI+PlwslR0dHldc5OjoWWUQtWLAANjY28uLq6qrVvImIqOLq3l15yXO1aqrrq1f/91Lo7lBO+e+7R7kYmhW6HyoZjQuXLl264PPPP0dOTg4AQJIkxMXFYfLkyejRo4fWE/zf//4HIQSqVasGU1NTLF++HB988AEMDEo0rhgAMHXqVKSkpMjLnTt3tJgxERFVdN27A7duAeHhwKZNyv/Gxv5btJBOafzr/9VXXyEtLQ0ODg7IyMiAj48PPD09UalSJcybN0/rCdaqVQuHDh1CWloa7ty5g5MnTyInJwc1a9aE07+jnx48eKDymgcPHsjbCmNqagpra2uVhYiISBOGhoCvL/DBB8r/crr/0qHxPC42NjbYv38/jh07hvPnzyMtLQ3NmzdXGWeiC5aWlrC0tMTjx4+xb98+LFq0CB4eHnByckJYWBiaNm0KAEhNTUVkZCQ++eQTneZDRESkVm468JuD8nGPRMDIsmzzqUA0LlzytWnTplTuEL1v3z4IIVCnTh3ExMRg4sSJqFu3LgYOHAhJkjBmzBjMnTsXXl5e8PDwwPTp0+Hi4sIZfomIqGzl8Z5+ulDsU0UHDx5E/fr1Cx2Ym5KSggYNGuDIkSNaTS5/3yNGjEDdunXRr18/tG3bFvv27ZPvkTRp0iR8+umnGDp0KN58802kpaUhNDS0wJVIREREpP8kIQq740JBXbp0gZ+fH8aOHVvo9uXLlyM8PBy///67VhMsDampqbCxsUFKSgrHuxAR0avLTQe2Wikfh6RV6FNFpf0bWuwel/PnzyMwMFDt9o4dO+LMmTNaSYqIiIioMMUuXB48eCCfnimMkZERHj58qJWkiIiIiApT7MKlWrVquHTpktrtFy5cgHNxb+JAREREVALFLlyCgoIwffr0Qm9emJGRgZkzZ+Ldd9/VanJERET6yQBw8FEumk+ZRkUo9uDcBw8eoHnz5jA0NMTIkSNRp04dAMDVq1exYsUK5OXl4ezZswWm39cHHJxLRERUMqX9G1rseVwcHR1x/PhxfPLJJ5g6dSry6x1JkhAQEIAVK1boZdFCRERE+kOjCehq1KiBP/74A48fP0ZMTAyEEPDy8kLlypV1lR8RERGRrEQz51auXBlvvvmmtnMhIiKqGHLTgR3uysddb1XoeVxKW4mn/CciIqIiZP1T1hlUSBzqTERERHqDhQsRERHpDRYuREREpDdYuBAREZHeYOFCREREeoNXFREREWmdAWDX4tlj0hoWLs9Jz06HYbZhgfWGBoYwMzJTiVPHQDKAubF5iWKf5jyFujswSJIEC2OLEsVm5GRAIRRq87A0sSxRbGZuJvIUeVqJtTC2gCRJAICs3CzkKnK1EmtubA4DSfmlkZ2XjZy8HK3EmhmZwdDAUOPYnLwcZOdlq401NTKFkYGRxrG5ilxk5WapjTUxNIGxobHGsXmKPGTmFrw/WT5jQ2OYGJpoHKsQCmTkZGgl1sjACKZGpgAAIQSe5jzVSqwm/+75HVF47Gv/HRF46llsEf+f9f07oqjPsC6wcHmOy1cugFnB9UFeQdjTe4/83GGxg9ovPJ8aPogYECE/d1/mjn+eFn4tfwuXFjg15JT8vP6K+ridcrvQ2Pr29fH38L/l529+/yYuP7xcaGwNmxq4NeaW/LzdunY4ff90obFVLari4cSH8vNOGzvh0O1DhcZaGFsg/b/PPqA9tvbAH9f/KDQWAMTMZ1+afX/vi18v/6o2Nm1qmvwlNmz3MKw/v15tbOKERNhb2gMAxu0bh+9Of6c2NnZ0LNxt3QEAn4V9hsUnFquNvfTJJTRwaAAAmH9kPmYfmq029uRHJ/FmNeUkjMv+WoZJByapjQ3vHw5fd18AwJozazBy70i1sbs/2I3OtTsDADZe3IiBOwaqjd36/lb8p8F/AAC/X/kdIb+GqI1d23UtBjQdAADYF7MP725Wf0PUbzt9ixEtRwAAjsQdgd96P7Wxi/wXYWKbiQCAs/Fn0fKHlmpjZ/rMxCzfWQCAKw+voOHKhmpjJ3hPwJcdvwQAxKXEwWOZh9rY4S2GY0XnFQCAf57+A4fFDmpj+zfpj3XvrQOg/GG3WmClNvb9+u/jl//8Ij8vKpbfEUr8jnjmtfqOWK3+O0IX2H9FREREeqPYd4euyPLvbHn/4f1C72zJbuDCY1/7bmCeKuKpohLE8juiZLF69x0BBQz3NlLGBkYhRzJWH6vn3xGJSYlwsXcptbtDs3BB6d+Sm4iIKrjcdGDrv6cXQ9Iq9L2KSvs3lKeKiIiISG+wcCEiIiK9wcKFiIiI9AYLFyIiItIbLFyIiIhIb3ACOiIiIq2TAJv6zx6T1rBwISIi0jYjC6Dz3y+PI42V61NFeXl5mD59Ojw8PGBubo5atWphzpw5KpMqDRgwAJIkqSyBgYFlmDURERHpSrnucVm4cCFWrlyJ9evXo0GDBjh9+jQGDhwIGxsbjBo1So4LDAzE2rVr5eempqZlkS4RERHpWLkuXI4fP46uXbuic2flDaXc3d2xefNmnDx5UiXO1NQUTk5OZZEiERFRQblPgX3Kmywi4JTy1BFpRbk+VdS6dWuEhYXh2rVrAIDz58/j6NGj6NSpk0pcREQEHBwcUKdOHXzyySd49OhRkfvNyspCamqqykJERKQ9Aki5rFzw2t9ZR6vKdY/LlClTkJqairp168LQ0BB5eXmYN28e+vTpI8cEBgaie/fu8PDwwI0bN/Df//4XnTp1wokTJ2BoaFjofhcsWIDZs9XfjpyIiIjKp3J9k8UtW7Zg4sSJ+PLLL9GgQQNERUVhzJgxWLJkCfr371/oa27evIlatWrhwIEDaN++faExWVlZyMp6dufL1NRUuLq68iaLRESkHbzJos6U6x6XiRMnYsqUKejVqxcAoFGjRrh9+zYWLFigtnCpWbMmqlatipiYGLWFi6mpKQfwEhER6aFyPcbl6dOnMDBQTdHQ0BAKhULta+7evYtHjx7B2dlZ1+kRERFRKSvXPS7BwcGYN28e3Nzc0KBBA5w7dw5LlizBoEGDAABpaWmYPXs2evToAScnJ9y4cQOTJk2Cp6cnAgICyjh7IiIi0rZyXbh88803mD59OoYPH47ExES4uLhg2LBhmDFjBgBl78uFCxewfv16JCcnw8XFBR07dsScOXN4KoiIiMqQBFjWePaYtKZcD84tLaU9sIiIiKiiKO3f0HI9xoWIiIjoeSxciIiISG+wcCEiItK23Awg9E3lkptR1tlUKOV6cC4REZF+UgBJp589Jq1hjwsRERHpDRYuREREpDdYuBAREZHeYOFCREREeoOFCxEREekNXlVERESkC6ZVyzqDComFCxERkbYZWQI9HpZ1FhUSTxURERGR3mDhQkRERHqDhQsREZG25WYAB3yVC6f81yqOcSEiItI6BZB46Nlj0hr2uBAREZHeYOFCREREeoOFCxEREekNFi5ERESkN1i4EBERkd7gVUVERES6YGhR1hlUSCxciIiItM3IEuiZXtZZVEg8VURERER6g4ULERER6Q0WLkRERNqWlwlEdFYueZllnU2FwjEuRERE2ibygPt/PHtMWsMeFyIiItIbLFyIiIhIb5TrwiUvLw/Tp0+Hh4cHzM3NUatWLcyZMwdCCDlGCIEZM2bA2dkZ5ubm8Pf3x/Xr18swayIiItKVcl24LFy4ECtXrsS3336LK1euYOHChVi0aBG++eYbOWbRokVYvnw5Vq1ahcjISFhaWiIgIACZmRwMRUREVNGU68G5x48fR9euXdG5c2cAgLu7OzZv3oyTJ08CUPa2LF26FNOmTUPXrl0BABs2bICjoyO2b9+OXr16lVnuREREpH3lunBp3bo11qxZg2vXrqF27do4f/48jh49iiVLlgAAYmNjkZCQAH9/f/k1NjY2aNWqFU6cOKG2cMnKykJWVpb8PCUlBQCQmpqqw9YQEdFrIzcdePrv49RUwKjiXlmU/9v5/DAOXSrXhcuUKVOQmpqKunXrwtDQEHl5eZg3bx769OkDAEhISAAAODo6qrzO0dFR3laYBQsWYPbs2QXWu7q6ajF7IiIiAENcyjqDUvHo0SPY2Njo/DjlunDZunUrNm7ciE2bNqFBgwaIiorCmDFj4OLigv79+5d4v1OnTsW4cePk58nJyahRowbi4uJK5U0vK6mpqXB1dcWdO3dgbW1d1unoDNtZsbCdFc/r0tbXpZ0pKSlwc3ODnZ1dqRyvXBcuEydOxJQpU+RTPo0aNcLt27exYMEC9O/fH05OTgCABw8ewNnZWX7dgwcP0LRpU7X7NTU1hampaYH1NjY2FfrDlc/a2prtrEDYzorldWkn8Pq09XVpp4FB6VzvU66vKnr69GmBN8LQ0BAKhQIA4OHhAScnJ4SFhcnbU1NTERkZCW9v71LNlYiIiHSvXPe4BAcHY968eXBzc0ODBg1w7tw5LFmyBIMGDQIASJKEMWPGYO7cufDy8oKHhwemT58OFxcXvPfee2WbPBEREWlduS5cvvnmG0yfPh3Dhw9HYmIiXFxcMGzYMMyYMUOOmTRpEtLT0zF06FAkJyejbdu2CA0NhZmZWbGPY2pqipkzZxZ6+qgiYTsrFrazYnld2gm8Pm1lO3VDEqV1/RIRERHRKyrXY1yIiIiInsfChYiIiPQGCxciIiLSGyxciIiISG9UmMLl8OHDCA4OhouLCyRJwvbt21W2CyEwY8YMODs7w9zcHP7+/rh+/bpKTFJSEvr06QNra2vY2tpi8ODBSEtLU4m5cOEC3n77bZiZmcHV1RWLFi3SddNUFNXOnJwcTJ48GY0aNYKlpSVcXFzQr18/3L9/X2Uf+t7OF3388ceQJAlLly5VWV9R2nnlyhV06dIFNjY2sLS0xJtvvom4uDh5e2ZmJkaMGIEqVarAysoKPXr0wIMHD1T2ERcXh86dO8PCwgIODg6YOHEicnNzdd082cvamZaWhpEjR6J69eowNzdH/fr1sWrVKpUYfWjnggUL8Oabb6JSpUpwcHDAe++9h+joaJ20IyIiAs2bN4epqSk8PT2xbt06XTdP9rJ2JiUl4dNPP0WdOnVgbm4ONzc3jBo1Sr4vXD59b+fzhBDo1KlToZ/vitLOEydO4J133oGlpSWsra3Rrl07ZGRkyNtL7TtXVBB//PGH+Oyzz8S2bdsEAPH777+rbP/iiy+EjY2N2L59uzh//rzo0qWL8PDwEBkZGXJMYGCgaNKkifjrr7/EkSNHhKenp/jggw/k7SkpKcLR0VH06dNHXLp0SWzevFmYm5uL1atXl1Yzi2xncnKy8Pf3Fz///LO4evWqOHHihGjZsqV44403VPah7+183rZt20STJk2Ei4uL+Prrr1W2VYR2xsTECDs7OzFx4kRx9uxZERMTI3bs2CEePHggx3z88cfC1dVVhIWFidOnT4u33npLtG7dWt6em5srGjZsKPz9/cW5c+fEH3/8IapWrSqmTp1aWs18aTuHDBkiatWqJcLDw0VsbKxYvXq1MDQ0FDt27JBj9KGdAQEBYu3ateLSpUsiKipKBAUFCTc3N5GWlqbVdty8eVNYWFiIcePGicuXL4tvvvlGGBoaitDQ0HLRzosXL4ru3buLnTt3ipiYGBEWFia8vLxEjx49KlQ7n7dkyRLRqVOnAp/vitLO48ePC2tra7FgwQJx6dIlcfXqVfHzzz+LzMxMOaa0vnMrTOHyvBc/OAqFQjg5OYkvv/xSXpecnCxMTU3F5s2bhRBCXL58WQAQp06dkmP27t0rJEkS9+7dE0II8d1334nKlSuLrKwsOWby5MmiTp06Om5R4Yr6Qc938uRJAUDcvn1bCFGx2nn37l1RrVo1cenSJVGjRg2VwqWitLNnz57iww8/VPua5ORkYWxsLH755Rd53ZUrVwQAceLECSGEsmgwMDAQCQkJcszKlSuFtbW1SttLS2HtbNCggfj8889V1jVv3lx89tlnQgj9bKcQQiQmJgoA4tChQ0II7bVj0qRJokGDBirH6tmzpwgICNB1kwr1YjsLs3XrVmFiYiJycnKEEBWrnefOnRPVqlUT8fHxBT7fFaWdrVq1EtOmTVP7mtL8zq0wp4qKEhsbi4SEBPj7+8vrbGxs0KpVK5w4cQKAsgvM1tYWLVq0kGP8/f1hYGCAyMhIOaZdu3YwMTGRYwICAhAdHY3Hjx+XUms0k5KSAkmSYGtrC6DitFOhUKBv376YOHEiGjRoUGB7RWinQqHAnj17ULt2bQQEBMDBwQGtWrVS6YY+c+YMcnJyVD7bdevWhZubm8pnu1GjRip3UQ8ICEBqair+/vvvUmtPUVq3bo2dO3fi3r17EEIgPDwc165dQ8eOHQHobzvzT43k33xOW+04ceKEyj7yY/L3UdpebKe6GGtraxgZKec9rSjtfPr0KXr37o0VK1bI9897XkVoZ2JiIiIjI+Hg4IDWrVvD0dERPj4+OHr0qPya0vzOfS0Kl4SEBABQ+eDkP8/flpCQAAcHB5XtRkZGsLOzU4kpbB/PH6M8yczMxOTJk/HBBx/IN/iqKO1cuHAhjIyMMGrUqEK3V4R2JiYmIi0tDV988QUCAwPx559/olu3bujevTsOHToEQJmniYmJXJjme/GzXZ7bCShnya5fvz6qV68OExMTBAYGYsWKFWjXrh0A/WynQqHAmDFj0KZNGzRs2FDOQxvtUBeTmpqqMuagNBTWzhf9888/mDNnDoYOHSqvqyjtHDt2LFq3bo2uXbsW+rqK0M6bN28CAGbNmoUhQ4YgNDQUzZs3R/v27eWxoqX5nVuup/ynksvJyUFISAiEEFi5cmVZp6NVZ86cwbJly3D27FlIklTW6ehM/s1Eu3btirFjxwIAmjZtiuPHj2PVqlXw8fEpy/S06ptvvsFff/2FnTt3okaNGjh8+DBGjBgBFxeXAn+J6osRI0bg0qVLKn+VVkQva2dqaio6d+6M+vXrY9asWaWbnBYV1s6dO3fi4MGDOHfuXBlmpl2FtTP/u2jYsGEYOHAgAKBZs2YICwvDTz/9hAULFpRqjq9Fj0t+992LI/cfPHggb3NyckJiYqLK9tzcXCQlJanEFLaP549RHuQXLbdv38b+/ftVbqdeEdp55MgRJCYmws3NDUZGRjAyMsLt27cxfvx4uLu7A6gY7axatSqMjIxQv359lfX16tWTrypycnJCdnY2kpOTVWJe/GyX53ZmZGTgv//9L5YsWYLg4GA0btwYI0eORM+ePbF48WIA+tfOkSNHYvfu3QgPD0f16tXl9dpqh7oYa2trmJuba7s5aqlrZ74nT54gMDAQlSpVwu+//w5jY2N5W0Vo58GDB3Hjxg3Y2trK30UA0KNHD/j6+hbZhvxtRcWUl3Y6OzsDwEu/i0rrO/e1KFw8PDzg5OSEsLAweV1qaioiIyPh7e0NAPD29kZycjLOnDkjxxw8eBAKhQKtWrWSYw4fPoycnBw5Zv/+/ahTpw4qV65cSq0pWn7Rcv36dRw4cABVqlRR2V4R2tm3b19cuHABUVFR8uLi4oKJEydi3759ACpGO01MTPDmm28WuCzx2rVrqFGjBgDgjTfegLGxscpnOzo6GnFxcSqf7YsXL6p8qeQXtC9+EZWFnJwc5OTkwMBA9evI0NBQ/ktPX9ophMDIkSPx+++/4+DBg/Dw8FDZrq12eHt7q+wjPyZ/H7r2snYCyu/Yjh07wsTEBDt37ixw49uK0M4pU6YU+C4CgK+//hpr166V26Dv7XR3d4eLi0uR30Wl+p2r0VDecuzJkyfi3Llz4ty5cwKAWLJkiTh37px8Nc0XX3whbG1txY4dO8SFCxdE165dC70culmzZiIyMlIcPXpUeHl5qVzKlZycLBwdHUXfvn3FpUuXxJYtW4SFhUWpXj5bVDuzs7NFly5dRPXq1UVUVJSIj4+Xl+dHcet7Owvz4lVFQlSMdm7btk0YGxuLNWvWiOvXr8uXSR45ckTex8cffyzc3NzEwYMHxenTp4W3t7fw9vaWt+dfjtmxY0cRFRUlQkNDhb29faleJvyydvr4+IgGDRqI8PBwcfPmTbF27VphZmYmvvvuO71q5yeffCJsbGxERESEyr+/p0+farUd+ZfPTpw4UVy5ckWsWLGiVC+ffVk7U1JSRKtWrUSjRo1ETEyMSkxubm6FaWdhoOZyaH1v59dffy2sra3FL7/8Iq5fvy6mTZsmzMzMRExMjBxTWt+5FaZwCQ8PFwAKLP379xdCKC+Jnj59unB0dBSmpqaiffv2Ijo6WmUfjx49Eh988IGwsrIS1tbWYuDAgeLJkycqMefPnxdt27YVpqamolq1auKLL74orSYKIYpuZ2xsbKHbAIjw8PAK087CFFa4VJR2/vjjj8LT01OYmZmJJk2aiO3bt6vsIyMjQwwfPlxUrlxZWFhYiG7duon4+HiVmFu3bolOnToJc3NzUbVqVTF+/Hj5stTS8LJ2xsfHiwEDBggXFxdhZmYm6tSpI7766iuhUCj0qp3q/v2tXbtW6+0IDw8XTZs2FSYmJqJmzZoqx9C1l7VT3f9vACI2NrbCtFPda1683L+itHPBggWievXqwsLCQnh7e6v8ASVE6X3nSv8mTURERFTuvRZjXIiIiKhiYOFCREREeoOFCxEREekNFi5ERESkN1i4EBERkd5g4UJERER6g4ULERER6Q0WLkRERKQ3WLgQUbFJkoTt27eX6jEjIiIgSVKBGxMWZdasWWjatKnWcoiOjoaTkxOePHkCAFi3bh1sbW21drxVq1YhODj4FbMkej2wcCHSQ5IkFbnMmjVL7Wtv3boFSZLkG8Jpy6pVq1CpUiXk5ubK69LS0mBsbCzfKTdffjFy48aNl+63devWiI+Ph42NjVbz9fX1xZgxY4oVO3XqVHz66aeoVKmSVnPIN2jQIJw9exZHjhzRyf6JKhIWLkR6KD4+Xl6WLl0Ka2trlXUTJkwo9Zz8/PyQlpaG06dPy+uOHDkCJycnREZGIjMzU14fHh4ONzc31KpV66X7NTExgZOTEyRJ0kneLxMXF4fdu3djwIABOjuGiYkJevfujeXLl+vsGEQVBQsXIj3k5OQkLzY2NpAkSX7u4OCAJUuWoHr16jA1NUXTpk0RGhoqvzb/lvXNmjWDJElyb8ipU6fQoUMHVK1aFTY2NvDx8cHZs2eLnVOdOnXg7OyMiIgIeV1ERAS6du0KDw8P/PXXXyrr/fz8AAAKhQILFiyAh4cHzM3N0aRJE/z6668qsS+eKvr+++/h6uoKCwsLdOvWDUuWLFE5dZPvf//7H9zd3WFjY4NevXrJp3oGDBiAQ4cOYdmyZXIv1a1btwpt19atW9GkSRNUq1btpe/B6tWr5bxCQkKQkpKi0o6WLVvC0tIStra2aNOmDW7fvi1vDw4Oxs6dO5GRkfHS4xC9zli4EFUwy5Ytw1dffYXFixfjwoULCAgIQJcuXXD9+nUAwMmTJwEABw4cQHx8PLZt2wYAePLkCfr374+jR4/ir7/+gpeXF4KCguQf++Lw8/NDeHi4/Dw8PBy+vr7w8fGR12dkZCAyMlIuXBYsWIANGzZg1apV+PvvvzF27Fh8+OGHOHToUKHHOHbsGD7++GOMHj0aUVFR6NChA+bNm1cg7saNG9i+fTt2796N3bt349ChQ/jiiy/k98jb2xtDhgyRe6lcXV0LPd6RI0fQokWLl7Y9JiYGW7duxa5duxAaGopz585h+PDhAIDc3Fy899578PHxwYULF3DixAkMHTpUpRepRYsWyM3NRWRk5EuPRfRa0/h+0kRUrqxdu1bY2NjIz11cXMS8efNUYt58800xfPhwIYQQsbGxAoA4d+5ckfvNy8sTlSpVErt27ZLXARC///672td8//33wtLSUuTk5IjU1FRhZGQkEhMTxaZNm0S7du2EEEKEhYUJAOL27dsiMzNTWFhYiOPHj6vsZ/DgweKDDz4QQggRHh4uAIjHjx8LIYTo2bOn6Ny5s0p8nz59VN6DmTNnCgsLC5GamiqvmzhxomjVqpX83MfHR4wePbrI90AIIZo0aSI+//xzlXUvvuczZ84UhoaG4u7du/K6vXv3CgMDAxEfHy8ePXokAIiIiIgij1W5cmWxbt26l+ZE9DpjjwtRBZKamor79++jTZs2KuvbtGmDK1euFPnaBw8eYMiQIfDy8oKNjQ2sra2RlpaGuLi4Yh/f19cX6enpOHXqFI4cOYLatWvD3t4ePj4+8jiXiIgI1KxZE25uboiJicHTp0/RoUMHWFlZycuGDRvUDtyNjo5Gy5YtVda9+BwA3N3dVQbTOjs7IzExsdhtyZeRkQEzM7OXxrm5uamcTvL29oZCoUB0dDTs7OwwYMAABAQEIDg4GMuWLUN8fHyBfZibm+Pp06ca50j0OjEq6wSIqHzo378/Hj16hGXLlqFGjRowNTWFt7c3srOzi70PT09PVK9eHeHh4Xj8+DF8fHwAAC4uLnB1dcXx48cRHh6Od955B4DyqiMA2LNnT4ExJKampq/UHmNjY5XnkiRBoVBovJ+qVavi8ePHr5QLAKxduxajRo1CaGgofv75Z0ybNg379+/HW2+9JcckJSXB3t7+lY9FVJGxx4WoArG2toaLiwuOHTumsv7YsWOoX78+AOUVLACQl5dXIGbUqFEICgpCgwYNYGpqin/++UfjHPz8/BAREYGIiAiVy6DbtWuHvXv34uTJk/L4lvr168PU1BRxcXHw9PRUWdSNOalTpw5OnTqlsu7F58VhYmJS4D0oTLNmzXD58uWXxsXFxeH+/fvy87/++gsGBgaoU6eOyr6mTp2K48ePo2HDhti0aZO87caNG8jMzESzZs00bAnR64U9LkQVzMSJEzFz5kzUqlULTZs2xdq1axEVFYWNGzcCABwcHGBubo7Q0FBUr14dZmZmsLGxgZeXF/73v/+hRYsWSE1NxcSJE2Fubq7x8f38/DBixAjk5OTIPS4A4OPjg5EjRyI7O1suXCpVqoQJEyZg7NixUCgUaNu2LVJSUnDs2DFYW1ujf//+Bfb/6aefol27dliyZAmCg4Nx8OBB7N27V+PLpd3d3REZGYlbt27BysoKdnZ2MDAo+LdcQEAAPvroI+Tl5cHQ0FDt/szMzNC/f38sXrwYqampGDVqFEJCQuDk5ITY2FisWbMGXbp0gYuLC6Kjo3H9+nX069dPfv2RI0dQs2bNYl0iTvQ6Y48LUQUzatQojBs3DuPHj0ejRo0QGhqKnTt3wsvLCwBgZGSE5cuXY/Xq1XBxcUHXrl0BAD/++CMeP36M5s2bo2/fvhg1ahQcHBw0Pr6fnx8yMjLg6ekJR0dHeb2Pjw+ePHkiXzadb86cOZg+fToWLFiAevXqITAwEHv27JEv235RmzZtsGrVKixZsgRNmjRBaGgoxo4dW6xxKM+bMGECDA0NUb9+fdjb26sdy9OpUycYGRnhwIEDRe7P09MT3bt3R1BQEDp27IjGjRvju+++AwBYWFjg6tWr6NGjB2rXro2hQ4dixIgRGDZsmPz6zZs3Y8iQIRq1geh1JAkhRFknQUT0KoYMGYKrV6/qbObZFStWYOfOndi3b59O9v/333/jnXfewbVr17Q+QzBRRcNTRUSkdxYvXowOHTrA0tISe/fuxfr16+XeDV0YNmwYkpOT8eTJE51M+x8fH48NGzawaCEqBva4EJHeCQkJQUREBJ48eYKaNWvi008/xccff1zWaRFRKWDhQkRERHqDg3OJiIhIb7BwISIiIr3BwoWIiIj0BgsXIiIi0hssXIiIiEhvsHAhIiIivcHChYiIiPQGCxciIiLSG/8P0ySjGzcNjRQAAAAASUVORK5CYII=\n"
                },
                "metadata": {}
              }
            ]
          }
        },
        "c7a1601a7c444fc28d406b29db216c33": {
          "model_module": "@jupyter-widgets/base",
          "model_name": "LayoutModel",
          "model_module_version": "1.2.0",
          "state": {
            "_model_module": "@jupyter-widgets/base",
            "_model_module_version": "1.2.0",
            "_model_name": "LayoutModel",
            "_view_count": null,
            "_view_module": "@jupyter-widgets/base",
            "_view_module_version": "1.2.0",
            "_view_name": "LayoutView",
            "align_content": null,
            "align_items": null,
            "align_self": null,
            "border": null,
            "bottom": null,
            "display": null,
            "flex": null,
            "flex_flow": null,
            "grid_area": null,
            "grid_auto_columns": null,
            "grid_auto_flow": null,
            "grid_auto_rows": null,
            "grid_column": null,
            "grid_gap": null,
            "grid_row": null,
            "grid_template_areas": null,
            "grid_template_columns": null,
            "grid_template_rows": null,
            "height": null,
            "justify_content": null,
            "justify_items": null,
            "left": null,
            "margin": null,
            "max_height": null,
            "max_width": null,
            "min_height": null,
            "min_width": null,
            "object_fit": null,
            "object_position": null,
            "order": null,
            "overflow": null,
            "overflow_x": null,
            "overflow_y": null,
            "padding": null,
            "right": null,
            "top": null,
            "visibility": null,
            "width": null
          }
        }
      }
    }
  },
  "cells": [
    {
      "cell_type": "markdown",
      "metadata": {
        "id": "view-in-github",
        "colab_type": "text"
      },
      "source": [
        "<a href=\"https://colab.research.google.com/github/matgyver/w_b_calc/blob/main/W%26B_performance.ipynb\" target=\"_parent\"><img src=\"https://colab.research.google.com/assets/colab-badge.svg\" alt=\"Open In Colab\"/></a>"
      ]
    },
    {
      "cell_type": "markdown",
      "metadata": {
        "id": "mArwD9YbfCbs"
      },
      "source": [
        "# Weight and Balance Calculator\n",
        "## Professor Nelson\n",
        "\n",
        "Weight and balance is critical not only for the performance but for the safety of the aircraft. To understand weight and balance, you need to understand some basics of how a momement arm works and how weight affects the performance of an aircraft. This notebook will walk through some basics of weight and balance with an aircraft and will do a sample calculation.\n",
        "\n"
      ]
    },
    {
      "cell_type": "markdown",
      "source": [
        "# Disclaimer\n",
        "The calculators we have in here are for educationational purposes only. Do not use these for actual calculations. Always refer to the aircraft's POH for W&B and limits for aircraft performance."
      ],
      "metadata": {
        "id": "q5rjaoxubUMz"
      }
    },
    {
      "cell_type": "markdown",
      "metadata": {
        "id": "9Wmcq8b66K08"
      },
      "source": [
        "# What is weight and balance?\n",
        "\n",
        "![alt text](https://i.redd.it/y6kf8zmhd3mx.jpg)\n",
        "\n",
        "A critical tool for pilots, especially for smaller aircrafts, is a weight and balance.  If an aircraft is not balanced correctly it can be unstable or result in damage to the aircraft or even loss of life.  Fortuantly the calculations for weight and balance are not very complex but do require some steps to be performed.\n",
        "\n"
      ]
    },
    {
      "cell_type": "markdown",
      "metadata": {
        "id": "n0hXVgqFpWHS"
      },
      "source": [
        "# Basic Information\n",
        "The first thing we need to do is get some information.  Some information, like information about the airplane shouldn't change from flight to flight.  Other information, such as passengers and luggage will change and we need to collect that information.\n",
        "## Weights\n",
        "Weight is everything for an aircraft.  Airplanes can only carry so much weight so we need to know how much weight we are carrying.  In smaller aircraft, every little bit counts and so we want to know all the various weights in the aircraft.  For larger weights, we also want to know where (in general) those weights are,  That is for our next step which is balance.\n"
      ]
    },
    {
      "cell_type": "markdown",
      "metadata": {
        "id": "z54Z_4H0rF_x"
      },
      "source": [
        "## PA-28\n",
        "\n",
        "We will use the weight and balance of a Piper PA-28 Cherokee 180 (1965).  The following table is information for that aircraft.  \n",
        "\n",
        "| Variable | Value |\n",
        "|----|---|\n",
        "| Empty Weight  | 1,471 lbs |\n",
        "| Center of Gravity (empty)  | 85.9 in |\n",
        "| Front Seats Moment Arm  | 85.5 in |\n",
        "| Fuel Tanks Moment Arm  | 95 in |\n",
        "| Rear Seats Moment Arm  | 118.1 in |\n",
        "| Maximum ramp weight  | 2,400 lbs |\n",
        "| Maximum Fuel  | 50 US Gallons |\n",
        "\n",
        "\n",
        "We need to store some of the values into variables that we can use in our calculations.  I have created the variables for empty weight, center of gravity, front seat moment arm, fuel tank moment arm, rear seat moment arm and maximum ramp weight in the code block below.  Place the values in the table above with the corresponding variables. Run the code block below when you have put those values in. I did the `empty_weight` for you as an example.\n",
        "\n",
        "Hint: To run the block below in Google Colab, move your mouse to the [  ] and round \"play\" button should appear. Click on that.\n",
        "\n"
      ]
    },
    {
      "cell_type": "code",
      "metadata": {
        "id": "y9IlheG_sKCm"
      },
      "source": [
        "empty_weight = 1471\n",
        "cg = 85.9\n",
        "front_seats = 85.5\n",
        "fuel_tanks = 95\n",
        "rear_seats = 118.1\n",
        "max_weight = 2400"
      ],
      "execution_count": null,
      "outputs": []
    },
    {
      "cell_type": "markdown",
      "source": [
        "That gives us the data that is mostly fixed or will not change. Our CG can not change unless we modify the aircraft (and no, we are not going to do that). Same for the `empty_weight` and `max_weight`. Both of those are pre-defined by the manufacuture and the POH.\n",
        "\n",
        "So, let's look at the items that we now have more control over. We can control how many people we take, and we can control how much fuel we want to carry. We can also control where (most) of those people sit (except the pilot of course). So, for now, let's start with 36 galloons of fuel, and the weight of the pilot at 200 lbs. Run the code block below with those values."
      ],
      "metadata": {
        "id": "gvT0pNe86CZU"
      }
    },
    {
      "cell_type": "code",
      "metadata": {
        "id": "mCB_ZAEtqBxz",
        "colab": {
          "base_uri": "https://localhost:8080/"
        },
        "outputId": "ea15f526-b73c-4e13-d488-280e1ccd1c3a"
      },
      "source": [
        "fuel = float(input(\"How much fuel is onboard (in US Gallons)?\"))\n",
        "pilot_weight = float(input(\"What is the weight of the pilot (in lbs)?\"))\n",
        "copilot_weight = float(input(\"What is the weight of the co-pilot (in lbs, if none enter 0)?\"))\n",
        "pass1 = float(input(\"What is the weight of passenger one? (if no passenger enter 0)\"))\n",
        "pass2 = float(input(\"What is the weight of passenger two? (if no passenger enter 0)\"))"
      ],
      "execution_count": null,
      "outputs": [
        {
          "name": "stdout",
          "output_type": "stream",
          "text": [
            "How much fuel is onboard (in US Gallons)?36\n",
            "What is the weight of the pilot (in lbs)?200\n",
            "What is the weight of the co-pilot (in lbs, if none enter 0)?0\n",
            "What is the weight of passenger one? (if no passenger enter 0)0\n",
            "What is the weight of passenger two? (if no passenger enter 0)0\n"
          ]
        }
      ]
    },
    {
      "cell_type": "markdown",
      "metadata": {
        "id": "tLEeC15ttcd_"
      },
      "source": [
        "## Fuel weight\n",
        "We have almost all that we need.  We do not know what the weight of the fuel is however.  We do know how much fuel we have, but it is in gallons.  1 gallon of AV 100LL weighs 6 lbs per gallon.  With that information we can easily calculate the weight of the fuel."
      ]
    },
    {
      "cell_type": "code",
      "metadata": {
        "id": "lVd1YW8SuArX",
        "colab": {
          "base_uri": "https://localhost:8080/"
        },
        "outputId": "14e3004e-943d-4b05-ffcb-6cfb2b199a9d"
      },
      "source": [
        "#Insert code below\n",
        "fuel_weight = fuel*6\n",
        "print(\"Total Fuel weight is:\",fuel_weight,\"lbs\")\n"
      ],
      "execution_count": null,
      "outputs": [
        {
          "output_type": "stream",
          "name": "stdout",
          "text": [
            "Total Fuel weight is: 216.0 lbs\n"
          ]
        }
      ]
    },
    {
      "cell_type": "markdown",
      "metadata": {
        "id": "upOKZSeBvWY7"
      },
      "source": [
        "## Calculating ramp weight\n",
        "Now we can start doing some calculations.  We want to know what the total weight of the aircraft is.  This is simple, we just add up all of the weights we have.  I have added check to see if our weight is under our maximum allowed.  If you get a \"True\" then your aircraft is under the maximum."
      ]
    },
    {
      "cell_type": "code",
      "metadata": {
        "id": "HZZcxfrSwcS7",
        "colab": {
          "base_uri": "https://localhost:8080/"
        },
        "outputId": "08721ff3-6172-4be6-e858-d61ad13c9cbb"
      },
      "source": [
        "#INSERT YOUR CODE HERE\n",
        "ramp_weight = empty_weight+fuel_weight+pilot_weight+copilot_weight+pass1+pass2\n",
        "print(\"Total weight is:\",ramp_weight,\"lbs\")\n",
        "print(\"Total weight is less than maximum allowed?\",ramp_weight < max_weight)"
      ],
      "execution_count": null,
      "outputs": [
        {
          "output_type": "stream",
          "name": "stdout",
          "text": [
            "Total weight is: 1887.0 lbs\n",
            "Total weight is less than maximum allowed? True\n"
          ]
        }
      ]
    },
    {
      "cell_type": "markdown",
      "metadata": {
        "id": "_Pno96eLz5Ce"
      },
      "source": [
        "## Calculating our moment for each area\n",
        "So far we have checked our weight and have made sure we are under the maximum.  However, this does not tell us about the \"balance\" part of our \"weight and balance\".  For that, we need to take into account the moment.  You can look at the image below to see how our moment arm and weight relate to our moment.\n",
        "![alt text](http://aviatech.co.za/wp-content/uploads/2014/03/mb_5.jpg)\n",
        "Our moment is easy to calculate, it is the weight multiplied by the arm.  I provided the arm measurements above (the values in inches).  Let's calculate the moment for each item and then add them up.\n"
      ]
    },
    {
      "cell_type": "code",
      "metadata": {
        "id": "xXKRRdtP0e_i",
        "colab": {
          "base_uri": "https://localhost:8080/"
        },
        "outputId": "854474b3-5d6c-45b0-df37-6fafb6dae4e4"
      },
      "source": [
        "front_seat_moment = (pilot_weight*front_seats)+(copilot_weight*front_seats)\n",
        "fuel_moment = fuel_weight*fuel_tanks\n",
        "back_seat_moment = (pass1*rear_seats)+(pass2*rear_seats)\n",
        "empty_aircraft_moment = empty_weight*cg\n",
        "total_moment = front_seat_moment+fuel_moment+back_seat_moment+empty_aircraft_moment\n",
        "\n",
        "print(\"Front Seats Moment\",front_seat_moment,\"lbs in\")\n",
        "print(\"Rear Seats Moment\",back_seat_moment,\"lbs in\")\n",
        "print(\"Fuel Moment\",fuel_moment,\"lbs in\")\n",
        "print(\"Empty Aircraft Moment {:.2f}\".format(empty_aircraft_moment),\"lbs in\")\n",
        "print(\"Total Moment {:.2f}\".format(total_moment),\"lbs in\")"
      ],
      "execution_count": null,
      "outputs": [
        {
          "output_type": "stream",
          "name": "stdout",
          "text": [
            "Front Seats Moment 17100.0 lbs in\n",
            "Rear Seats Moment 0.0 lbs in\n",
            "Fuel Moment 20520.0 lbs in\n",
            "Empty Aircraft Moment 126358.90 lbs in\n",
            "Total Moment 163978.90 lbs in\n"
          ]
        }
      ]
    },
    {
      "cell_type": "markdown",
      "metadata": {
        "id": "-6PMbclZ2i5v"
      },
      "source": [
        "## Calculating our moment arm\n",
        "We can take our total moment and calculate our new CG by dividing the total moment by the weight of the aircraft value.  For our aircraft our moment arm needs to be between 86.8 in and 95.8 in.  Any value outside of this and our aircraft would be out of balance and may be unstable during flight.  I have provided code that will check your value but you need to calculate the moment arm\n"
      ]
    },
    {
      "cell_type": "code",
      "metadata": {
        "id": "ceG0CQ9h2se_",
        "colab": {
          "base_uri": "https://localhost:8080/"
        },
        "outputId": "59707dc3-d3f5-41cf-ba10-bf9e9215f7c1"
      },
      "source": [
        "load_cg = total_moment/ramp_weight\n",
        "print(\"The loaded moment arm is:{:.2f}\".format(load_cg),\"inches\")\n",
        "\n",
        "#Provided code to check your CG and total weight\n",
        "if (load_cg > 86.8 and load_cg < 95.9 and ramp_weight < max_weight):\n",
        "  print(\"The aircraft is within the weight and balance for this aircraft.\")\n",
        "else:\n",
        "  print(\"This aircraft is outside the weight and balance and should not be flown.\")"
      ],
      "execution_count": null,
      "outputs": [
        {
          "output_type": "stream",
          "name": "stdout",
          "text": [
            "The loaded moment arm is:86.90 inches\n",
            "The aircraft is within the weight and balance for this aircraft.\n"
          ]
        }
      ]
    },
    {
      "cell_type": "markdown",
      "metadata": {
        "id": "SmGUj1325hJp"
      },
      "source": [
        "## More Dynamic Calculations\n",
        "\n",
        "Run the code block below. Once it is done running, you will see four sliders where you can adjust the fuel in gallons and the weight of each person. The graph will update in real time on where the total weight of the aircraft is at and the CG of the aircraft. Try adjusting those values and then answer the questions below.\n",
        "\n",
        "One more thing that I will note. This is a fairly simplified version of a weight and balance. This does not include things like the luggage compartment and most aircraft have a slight more complicated CG profile instead of the straight lines we are using here. Still, this gets the point across and covers the basics of weight and balance calculations."
      ]
    },
    {
      "cell_type": "code",
      "source": [
        "import ipywidgets as widgets\n",
        "import matplotlib.pyplot as plt\n",
        "import numpy as np\n",
        "from IPython.display import display, clear_output\n",
        "\n",
        "# Constants\n",
        "empty_weight = 1471\n",
        "cg = 85.9\n",
        "front_seats = 85.5\n",
        "fuel_tanks = 95\n",
        "rear_seats = 118.1\n",
        "max_weight = 2400\n",
        "\n",
        "# Function to calculate total weight, CG, and update the plot\n",
        "def update_plot(fuel, pilot_weight, copilot_weight, pass1, pass2):\n",
        "    fuel_weight = fuel * 6\n",
        "    ramp_weight = empty_weight + fuel_weight + pilot_weight + copilot_weight + pass1 + pass2\n",
        "\n",
        "    front_seat_moment = (pilot_weight * front_seats) + (copilot_weight * front_seats)\n",
        "    fuel_moment = fuel_weight * fuel_tanks\n",
        "    back_seat_moment = (pass1 * rear_seats) + (pass2 * rear_seats)\n",
        "    empty_aircraft_moment = empty_weight * cg\n",
        "    total_moment = front_seat_moment + fuel_moment + back_seat_moment + empty_aircraft_moment\n",
        "\n",
        "    load_cg = total_moment / ramp_weight\n",
        "\n",
        "    # Clear the previous plot but keep the widgets intact\n",
        "    with output_plot:\n",
        "        clear_output(wait=True)\n",
        "\n",
        "        # Create a new plot\n",
        "        fig, ax = plt.subplots(figsize=(6, 4))\n",
        "\n",
        "        # Plotting weight vs CG\n",
        "        ax.scatter(ramp_weight, load_cg, color='blue', label='Current CG')\n",
        "\n",
        "        # Set axis limits and labels\n",
        "        ax.set_xlim(1000, 2600)\n",
        "        ax.set_ylim(80, 120)\n",
        "        ax.set_xlabel('Total Weight (lbs)')\n",
        "        ax.set_ylabel('Center of Gravity (inches)')\n",
        "\n",
        "        # Adding allowed weight and CG limits (shaded area)\n",
        "        ax.axhline(y=86.8, color='green', linestyle='--', label=\"Min CG Limit\")\n",
        "        ax.axhline(y=95.9, color='red', linestyle='--', label=\"Max CG Limit\")\n",
        "        ax.axvline(x=max_weight, color='orange', linestyle='--', label=\"Max Weight Limit\")\n",
        "\n",
        "        # Check if the aircraft is within limits\n",
        "        if 86.8 < load_cg < 95.9 and ramp_weight < max_weight:\n",
        "            result = \"The aircraft is within the weight and balance limits.\"\n",
        "        else:\n",
        "            result = \"The aircraft is outside the weight and balance limits.\"\n",
        "\n",
        "        # Update the result text\n",
        "        result_text.value = result\n",
        "\n",
        "        # Redraw the plot\n",
        "        ax.legend()\n",
        "        plt.show()\n",
        "\n",
        "# Creating sliders for fuel, pilot, co-pilot, and passengers\n",
        "fuel_slider = widgets.FloatSlider(value=0, min=0, max=50, step=1, description=\"Fuel (gallons)\")\n",
        "pilot_weight_slider = widgets.FloatSlider(value=160, min=100, max=300, step=5, description=\"Pilot Weight (lbs)\")\n",
        "copilot_weight_slider = widgets.FloatSlider(value=160, min=0, max=300, step=5, description=\"Co-pilot Weight (lbs)\")\n",
        "pass1_slider = widgets.FloatSlider(value=0, min=0, max=300, step=5, description=\"Passenger 1 Weight (lbs)\")\n",
        "pass2_slider = widgets.FloatSlider(value=0, min=0, max=300, step=5, description=\"Passenger 2 Weight (lbs)\")\n",
        "\n",
        "# Output result for the aircraft's weight and balance status\n",
        "result_text = widgets.Label(value=\"\")\n",
        "\n",
        "# Create an output widget to display the plot\n",
        "output_plot = widgets.Output()\n",
        "\n",
        "# Function to update the graph whenever a slider value changes\n",
        "def on_slider_change(change):\n",
        "    update_plot(fuel_slider.value, pilot_weight_slider.value, copilot_weight_slider.value, pass1_slider.value, pass2_slider.value)\n",
        "\n",
        "# Attach update function to all sliders\n",
        "fuel_slider.observe(on_slider_change, names='value')\n",
        "pilot_weight_slider.observe(on_slider_change, names='value')\n",
        "copilot_weight_slider.observe(on_slider_change, names='value')\n",
        "pass1_slider.observe(on_slider_change, names='value')\n",
        "pass2_slider.observe(on_slider_change, names='value')\n",
        "\n",
        "# Display the sliders, result text, and output plot separately\n",
        "display(fuel_slider, pilot_weight_slider, copilot_weight_slider, pass1_slider, pass2_slider, result_text, output_plot)\n",
        "\n",
        "# Initialize the plot\n",
        "update_plot(fuel_slider.value, pilot_weight_slider.value, copilot_weight_slider.value, pass1_slider.value, pass2_slider.value)"
      ],
      "metadata": {
        "colab": {
          "base_uri": "https://localhost:8080/",
          "height": 575,
          "referenced_widgets": [
            "c46cbd17a919401b812195525d6a92e3",
            "d0d28876bc70421d941bee4b47074ace",
            "4726b07e0df44adbbb99b467774869db",
            "6e7902679898475087f9314252bbfae6",
            "5d648fd9b40b4967afccbbc7ff2b6699",
            "a35a366474c54c378ea7b077e55d8130",
            "13ceabbfd0214115b488c2b766e868ae",
            "2bb95643f0394abc97e1c1e1ded11ef3",
            "6775282433334a0593acb02949b5cbd2",
            "f0723700e4914b9aa947bc73004a476d",
            "1312c33afb0b416b9bce1cd1c36501ef",
            "d446e8492bba43eeafb0e9d2dec25f65",
            "31dbd3fd5bb44875844bbc58ae6b4c0c",
            "92a6917a58ff4ce5b18a2a5aabde15fc",
            "80ad0b8b6d584880baff07e28b741fb6",
            "2f3e81de1c7542e6815b77c0cb3a7ff0",
            "87cb63a0154d4b6b82c7752e783d649c",
            "b6516738cd9442c48065ecc73755cf42",
            "6f84493758374043a9e01e12889e2092",
            "c7a1601a7c444fc28d406b29db216c33"
          ]
        },
        "id": "aGuiTL26_bUJ",
        "outputId": "28651cb5-d20f-4134-d3f7-ab3167391640"
      },
      "execution_count": 1,
      "outputs": [
        {
          "output_type": "display_data",
          "data": {
            "text/plain": [
              "FloatSlider(value=0.0, description='Fuel (gallons)', max=50.0, step=1.0)"
            ],
            "application/vnd.jupyter.widget-view+json": {
              "version_major": 2,
              "version_minor": 0,
              "model_id": "c46cbd17a919401b812195525d6a92e3"
            }
          },
          "metadata": {}
        },
        {
          "output_type": "display_data",
          "data": {
            "text/plain": [
              "FloatSlider(value=160.0, description='Pilot Weight (lbs)', max=300.0, min=100.0, step=5.0)"
            ],
            "application/vnd.jupyter.widget-view+json": {
              "version_major": 2,
              "version_minor": 0,
              "model_id": "6e7902679898475087f9314252bbfae6"
            }
          },
          "metadata": {}
        },
        {
          "output_type": "display_data",
          "data": {
            "text/plain": [
              "FloatSlider(value=160.0, description='Co-pilot Weight (lbs)', max=300.0, step=5.0)"
            ],
            "application/vnd.jupyter.widget-view+json": {
              "version_major": 2,
              "version_minor": 0,
              "model_id": "13ceabbfd0214115b488c2b766e868ae"
            }
          },
          "metadata": {}
        },
        {
          "output_type": "display_data",
          "data": {
            "text/plain": [
              "FloatSlider(value=0.0, description='Passenger 1 Weight (lbs)', max=300.0, step=5.0)"
            ],
            "application/vnd.jupyter.widget-view+json": {
              "version_major": 2,
              "version_minor": 0,
              "model_id": "f0723700e4914b9aa947bc73004a476d"
            }
          },
          "metadata": {}
        },
        {
          "output_type": "display_data",
          "data": {
            "text/plain": [
              "FloatSlider(value=0.0, description='Passenger 2 Weight (lbs)', max=300.0, step=5.0)"
            ],
            "application/vnd.jupyter.widget-view+json": {
              "version_major": 2,
              "version_minor": 0,
              "model_id": "31dbd3fd5bb44875844bbc58ae6b4c0c"
            }
          },
          "metadata": {}
        },
        {
          "output_type": "display_data",
          "data": {
            "text/plain": [
              "Label(value='')"
            ],
            "application/vnd.jupyter.widget-view+json": {
              "version_major": 2,
              "version_minor": 0,
              "model_id": "2f3e81de1c7542e6815b77c0cb3a7ff0"
            }
          },
          "metadata": {}
        },
        {
          "output_type": "display_data",
          "data": {
            "text/plain": [
              "Output()"
            ],
            "application/vnd.jupyter.widget-view+json": {
              "version_major": 2,
              "version_minor": 0,
              "model_id": "6f84493758374043a9e01e12889e2092"
            }
          },
          "metadata": {}
        }
      ]
    },
    {
      "cell_type": "markdown",
      "source": [
        "# Questions\n",
        "Answer the following questions in the Canvas Quiz for this assignment.\n",
        "\n",
        "1. With 36 galloons of fuel, how many people can you carry in this aircraft? Assume an average weight of 160-180 lbs.\n",
        "2. With 50 galloons of fuel, and using the same values as you did for Part 1, how many people can you carry?"
      ],
      "metadata": {
        "id": "b7ssjkzRago6"
      }
    },
    {
      "cell_type": "markdown",
      "metadata": {
        "id": "uJO75oKPC2hd"
      },
      "source": [
        "\n",
        "\n",
        "---\n",
        "\n"
      ]
    },
    {
      "cell_type": "markdown",
      "metadata": {
        "id": "nOlE8Z3ju7FM"
      },
      "source": [
        "# Air Density\n",
        "![alt text](https://aerotoolbox.com/media/uploads/2022/11/27/pa28-takeoff-performance-chart-annotated.jpg)\n",
        "\n",
        "Aircraft performance is based on many things, but one thing that it is based on that we do not have much control over is the weather.  Air density, which affects our lift and engine performance is something that all pilots need to know as they plan their flights.  Pilots refer to this as the air density altitude.  This number represents what the altitude is based on air temperature, humidity and pressure and compares it the altitude of the airport you are at.  The higher the number or the higher the altitude and our performance decreases.  The lower the number, the better our performance.\n"
      ]
    },
    {
      "cell_type": "markdown",
      "metadata": {
        "id": "HGZenZkLB9jE"
      },
      "source": [
        "## Objective\n",
        "\n",
        "We can easily calculate this value using Python.  First, let's obtain our weather data.  Calculating the air density altitude requires several other items to be calculated.  We will break this down to several equations that will need to be solved.  We will use Python's math library  Run the code below and enter Ames when the box comes up.\n",
        "\n",
        "## Important Note\n",
        "I have gone through a lot of effort to ensure the accuracy of this, however, as this not a tested system I do need to put the following disclaimer:\n",
        "\n",
        "### This calculator is for educational purposes only and should not be relied upon for flight planning."
      ]
    },
    {
      "cell_type": "markdown",
      "metadata": {
        "id": "0XROOqwTGk6n"
      },
      "source": [
        "## Obtaining our weather information\n",
        "First, we will run the code below to obtain our weather information.  Put \"Ames\" in the text box that pops up below this code box."
      ]
    },
    {
      "cell_type": "code",
      "metadata": {
        "id": "vzycR8onyWP9",
        "colab": {
          "base_uri": "https://localhost:8080/"
        },
        "outputId": "f7d6715b-ea12-467d-9724-33397f9d52b7"
      },
      "source": [
        "# Python program to find current\n",
        "# weather details of any city\n",
        "# using openweathermap api\n",
        "\n",
        "def kelvin_to_celsius(temp):\n",
        "    return (temp - 273.15)\n",
        "\n",
        "def celsius_to_fahr(temp):\n",
        "    return ((temp * 9/5) + 32)\n",
        "\n",
        "# import required modules\n",
        "import requests, json\n",
        "import math\n",
        "\n",
        "# Enter your API key here\n",
        "api_key = \"7cab1fcaf444883263bc48dd983e6018\"\n",
        "\n",
        "# base_url variable to store url\n",
        "base_url = \"http://api.openweathermap.org/data/2.5/weather?\"\n",
        "\n",
        "# Give city name\n",
        "city_name = input(\"Enter city name : \")\n",
        "\n",
        "# complete_url variable to store\n",
        "# complete url address\n",
        "complete_url = base_url + \"appid=\" + api_key + \"&q=\" + city_name\n",
        "\n",
        "# get method of requests module\n",
        "# return response object\n",
        "response = requests.get(complete_url)\n",
        "\n",
        "# json method of response object\n",
        "# convert json format data into\n",
        "# python format data\n",
        "x = response.json()\n",
        "\n",
        "# Now x contains list of nested dictionaries\n",
        "# Check the value of \"cod\" key is equal to\n",
        "# \"404\", means city is found otherwise,\n",
        "# city is not found\n",
        "if x[\"cod\"] != \"404\":\n",
        "\n",
        "\t# store the value of \"main\"\n",
        "\t# key in variable y\n",
        "\ty = x[\"main\"]\n",
        "\n",
        "\t# store the value corresponding\n",
        "\t# to the \"temp\" key of y\n",
        "\tcurrent_temperature = y[\"temp\"]\n",
        "\n",
        "\t# store the value corresponding\n",
        "\t# to the \"pressure\" key of y\n",
        "\tcurrent_pressure = y[\"pressure\"]\n",
        "\n",
        "\t# store the value corresponding\n",
        "\t# to the \"humidity\" key of y\n",
        "\tcurrent_humidity = y[\"humidity\"]\n",
        "\n",
        "\t# store the value of \"weather\"\n",
        "\t# key in variable z\n",
        "\tz = x[\"weather\"]\n",
        "\n",
        "\t# store the value corresponding\n",
        "\t# to the \"description\" key at\n",
        "\t# the 0th index of z\n",
        "\tweather_description = z[0][\"description\"]\n",
        "\n",
        "\t# print following values\n",
        "\tprint(\" Temperature (in kelvin unit) = \" +\n",
        "\t\t\t\t\tstr(current_temperature) +\n",
        "\t\t\"\\n atmospheric pressure (in hPa unit) = \" +\n",
        "\t\t\t\t\tstr(current_pressure) +\n",
        "\t\t\"\\n humidity (in percentage) = \" +\n",
        "\t\t\t\t\tstr(current_humidity) +\n",
        "\t\t\"\\n description = \" +\n",
        "\t\t\t\t\tstr(weather_description))\n",
        "\n",
        "else:\n",
        "\tprint(\" City Not Found \")"
      ],
      "execution_count": 1,
      "outputs": [
        {
          "output_type": "stream",
          "name": "stdout",
          "text": [
            "Enter city name : Ames\n",
            " Temperature (in kelvin unit) = 292.14\n",
            " atmospheric pressure (in hPa unit) = 1010\n",
            " humidity (in percentage) = 68\n",
            " description = overcast clouds\n"
          ]
        }
      ]
    },
    {
      "cell_type": "markdown",
      "source": [
        "# Performing the conversion\n",
        "The following information will walk you through how we calculate these values. I have already done the coding for you, so you just need to run each block below. This gives you a peak to the math and science behind on how we calculate these values."
      ],
      "metadata": {
        "id": "qDprd29YSbtH"
      }
    },
    {
      "cell_type": "markdown",
      "metadata": {
        "id": "qGRVEBGn4uMF"
      },
      "source": [
        "## Temperature Conversion\n",
        "Our temperature is in Kelvin which will be useful later, but for now, let's convert that to Celsius which we do use in Aviation. If you are curious on how the conversion works, the function is included in the code block above. Below I will simply call that function to do the conversion for us."
      ]
    },
    {
      "cell_type": "code",
      "metadata": {
        "id": "SS2CAFwy4rZO",
        "colab": {
          "base_uri": "https://localhost:8080/"
        },
        "outputId": "3d3859b2-b704-483c-a459-c2b0f0124f3b"
      },
      "source": [
        "temp_C = kelvin_to_celsius(current_temperature)\n",
        "temp_F = celsius_to_fahr(temp_C)\n",
        "print('The temperature in Celsius is: {:.2f}'.format(temp_C),\"C\")\n",
        "print('The temperature in Farenheit is: {:.2f}'.format(temp_F),\"F\")"
      ],
      "execution_count": 2,
      "outputs": [
        {
          "output_type": "stream",
          "name": "stdout",
          "text": [
            "The temperature in Celsius is: 18.99 C\n",
            "The temperature in Farenheit is: 66.18 F\n"
          ]
        }
      ]
    },
    {
      "cell_type": "markdown",
      "metadata": {
        "id": "A1YP8m-sJY_Y"
      },
      "source": [
        "## Vapor pressure and Dewpoint calcuation\n",
        "\n",
        "Calculating density altitude is not a trivial task, but we can make things easier if we break things down. If you want to see how we did these calculations, see this [link provided by NOAA](https://www.weather.gov/media/epz/wxcalc/densityAltitude.pdf).\n",
        "\n",
        "The first thing we need to do is to calculate the Vapor Pressure.  Refer to Equation 1 on how we calculate the vapor pressure in the atmosphere.\n",
        "\n",
        "## Eq 1: $e=6.11*10^{(\\frac{7.5xT_d}{237.7+T_d})}$\n",
        "\n",
        "In this equation $T_d$ is the dewpoint temperature in Celsius. In order to calculate this we first need our temperature in Celsius that we have calculated above. The dewpoint is then calculated with Equation 2.\n",
        "\n",
        "## Eq 2: $T_d = T_C - (\\frac{100-Humidity}{5})$\n",
        "\n",
        "Here $T_C$ is the temperature in Celsius and Humidity is the current humidity percentage. We have calcuated the temperature in Celsius above and the Humidity is stored in the current_humidity collected above.\n",
        "\n",
        "Calculate the dewpoint in Celsius. Use the temperature in Celsius that we calculated above. Store this in a variable called \"dp\"."
      ]
    },
    {
      "cell_type": "code",
      "metadata": {
        "id": "gFTJIVwZL6Jg",
        "colab": {
          "base_uri": "https://localhost:8080/"
        },
        "outputId": "f0bc4b39-3bf3-4f22-ef31-ac4972cb229f"
      },
      "source": [
        "dp = temp_C-((100-current_humidity)/5)\n",
        "print(\"The dewpoint is: {:.2f}\".format(dp),\"C\")"
      ],
      "execution_count": 3,
      "outputs": [
        {
          "output_type": "stream",
          "name": "stdout",
          "text": [
            "The dewpoint is: 12.59 C\n"
          ]
        }
      ]
    },
    {
      "cell_type": "markdown",
      "metadata": {
        "id": "DvZXdR4cPYx5"
      },
      "source": [
        "Now that we have our dewpoint temperature, we can calculate the vapor pressure. Calculate the vapor pressure using Equation 1. Store this into variable \"vp\"."
      ]
    },
    {
      "cell_type": "code",
      "metadata": {
        "id": "17KLk3v0lKXe",
        "colab": {
          "base_uri": "https://localhost:8080/"
        },
        "outputId": "af894767-1971-4fbb-d3ea-4e8ee3a0a0bf"
      },
      "source": [
        "vp = 6.11*math.pow(10,((7.5*dp)/(237.7+dp)))\n",
        "print(\"The vapor pressure is: {:.2f}\".format(vp))"
      ],
      "execution_count": 4,
      "outputs": [
        {
          "output_type": "stream",
          "name": "stdout",
          "text": [
            "The vapor pressure is: 14.56\n"
          ]
        }
      ]
    },
    {
      "cell_type": "markdown",
      "metadata": {
        "id": "rAFiA6Ztlu3k"
      },
      "source": [
        "## Virtual Temperature calculation\n",
        "\n",
        "Now that we have the vapor pressure, we can work on the next step which is calculating the Virtual Temperature. The Virtual Temperature can be seen in Equation 3.\n",
        "\n",
        "## Eq 3: $T_v = \\frac{T}{1-(\\frac{e}{P_{mb}})*(1-0.622)}$\n",
        "\n",
        "Here, $e$ is the vapor pressure that we just calculated (stored in variable \"vp\"). $T$ is the current temperature, in Kelvin.  The weather that we downloaded is already in Kelvin so we already have these variables and the information we need. As a refresher, the two variables are below.\n",
        "\n",
        "\n",
        "```\n",
        "current_temperature\n",
        "```\n",
        "\n",
        "$P_{mb}$ is the current pressure in millibar. This is also the same as what we just downloaded so we can use the following variable\n",
        "\n",
        "\n",
        "```\n",
        "current_pressure\n",
        "```\n",
        "\n",
        "Plug these variables into Equation 3 and store this in a variable called \"vt\""
      ]
    },
    {
      "cell_type": "code",
      "metadata": {
        "id": "AFj54DECmh98",
        "colab": {
          "base_uri": "https://localhost:8080/"
        },
        "outputId": "986e94bf-18a5-4137-acec-751a8976e41a"
      },
      "source": [
        "vt = current_temperature/(1-(vp/current_pressure)*(1-0.622))\n",
        "print(\"The virtual temperature is: {:.2f}\".format(vt),\"K\")"
      ],
      "execution_count": 5,
      "outputs": [
        {
          "output_type": "stream",
          "name": "stdout",
          "text": [
            "The virtual temperature is: 293.74 K\n"
          ]
        }
      ]
    },
    {
      "cell_type": "markdown",
      "metadata": {
        "id": "vXAsqAAYn8-E"
      },
      "source": [
        "## Converting from Kelvin to Rankine\n",
        "\n",
        "This value is in Kelvin and we need to convert this to Rankine. To convert this to Rankine we can used Equation 4.\n",
        "\n",
        "## Eq 4: $(\\frac{9}{5}*(T_v-273.15)+32)+459.69$\n",
        "\n",
        "Convert the Virtual Temperature that you did above from Kelvin to Rankine using Equation 4. Store this in the variable \"vtr\""
      ]
    },
    {
      "cell_type": "code",
      "metadata": {
        "id": "9_c8Xe6ToM40",
        "colab": {
          "base_uri": "https://localhost:8080/"
        },
        "outputId": "f293ab69-6687-4228-e5df-a968fa6274a8"
      },
      "source": [
        "vtr = ((9/5)*(vt-273.15)+32)+459.69\n",
        "print(\"The virtual temperature is: {:.2f}\".format(vtr),\"Rankine\")"
      ],
      "execution_count": 6,
      "outputs": [
        {
          "output_type": "stream",
          "name": "stdout",
          "text": [
            "The virtual temperature is: 528.75 Rankine\n"
          ]
        }
      ]
    },
    {
      "cell_type": "markdown",
      "metadata": {
        "id": "xZD-cdHup30t"
      },
      "source": [
        "## Density Altitude Calculation\n",
        "\n",
        "We are almost done. Let's look at what the equation is for density altitude.  This can be seen in Equation 5.\n",
        "\n",
        "\n",
        "## Eq 5: $D_{alt} = FieldElevation+(145366 x (1-(\\frac{17.326*P_{inHG}}{T_{vr}})^{0.235}))$\n",
        "\n",
        "In Equation 5 $T_{vr}$ is our Virtual Temperature in Rankine. $P_{inHG}$ however is our pressure in inches of Mercury. We need to convert our pressure in millibar to inches of HG.  We can do that in Equation 6. Finally we need to know our field elevation. The Ames Airport (Airport ID: KAMW) has a field evelvation of 955.6 feet. Store this value in a variable called \"field_elv\".\n",
        "\n",
        "## Eq 6: $P_{inHG}=P_{mb}*0.02953$\n",
        "\n",
        "Convert the pressure from millibar to inches of Mercury below and store it in a variable called \"p_hg\""
      ]
    },
    {
      "cell_type": "code",
      "metadata": {
        "id": "vEvtwi30rllt",
        "colab": {
          "base_uri": "https://localhost:8080/"
        },
        "outputId": "501a2e1e-66c6-484d-abc9-fb499fe56ecb"
      },
      "source": [
        "field_elv = 955.6\n",
        "p_hg = 0.02953*current_pressure\n",
        "print(\"The pressure is: {:.2f}\".format(p_hg),\"inHG\")"
      ],
      "execution_count": 7,
      "outputs": [
        {
          "output_type": "stream",
          "name": "stdout",
          "text": [
            "The pressure is: 29.83 inHG\n"
          ]
        }
      ]
    },
    {
      "cell_type": "markdown",
      "metadata": {
        "id": "kI6LiPVRsN5P"
      },
      "source": [
        "We now have everything we need to calculate our density altitude.  Calculate the density altitude using Equation 5 and store it in a variable called \"da\"."
      ]
    },
    {
      "cell_type": "code",
      "metadata": {
        "id": "XWsfXtyesjF0",
        "colab": {
          "base_uri": "https://localhost:8080/"
        },
        "outputId": "c3ae479a-0a0a-4e78-a32e-2b7fbac96210"
      },
      "source": [
        "da = field_elv+(145366*(1-math.pow(((17.326*p_hg)/vtr),0.235)))\n",
        "print(\"The density altitude is: {:.2f}\".format(da),\"feet\")"
      ],
      "execution_count": 8,
      "outputs": [
        {
          "output_type": "stream",
          "name": "stdout",
          "text": [
            "The density altitude is: 1737.76 feet\n"
          ]
        }
      ]
    },
    {
      "cell_type": "markdown",
      "metadata": {
        "id": "NF1ztcRf0tGH"
      },
      "source": [
        "## Checking our work\n",
        "Let's check our answer with that from the[ NOAA calculator](https://www.weather.gov/epz/wxcalc_densityaltitude). Go to the [NOAA density altitude calculator](https://www.weather.gov/epz/wxcalc_densityaltitude). Enter the same values that our weather program downloaded.  In the box below, enter the number calculated. Don't worry if it is not exact, but you should be within +/- 150 feet.\n",
        "\n",
        "In the box below, store this value you found from the NOAA website. Store it in the variable NOAA_DA. Make sure you run this cell so that it gets stored."
      ]
    },
    {
      "cell_type": "code",
      "metadata": {
        "id": "111mSkEbVAqn",
        "colab": {
          "base_uri": "https://localhost:8080/"
        },
        "outputId": "ab2295f3-3f05-450f-bed0-c0c6c8ad5a24"
      },
      "source": [
        "NOAA_DA = field_elv+(780.9)\n",
        "print(\"NOAA is reporting the Density Altitude as:{:.2f}\".format(NOAA_DA),\"feet. This is a difference of {:.2f}\".format(da-NOAA_DA),\"feet from our calculation.\")"
      ],
      "execution_count": 10,
      "outputs": [
        {
          "output_type": "stream",
          "name": "stdout",
          "text": [
            "NOAA is reporting the Density Altitude as:1736.50 feet. This is a difference of 1.26 feet from our calculation.\n"
          ]
        }
      ]
    },
    {
      "cell_type": "markdown",
      "source": [
        "# Questions\n",
        "Answer the following questions in the Canvas Quiz linked in the assignment.\n",
        "\n",
        "1. Dew point is showing at what temperature the atmosphere needs to be at to be saturated with moisture. If the dew point temperature and the actual temperature is the same, what does that mean?\n",
        "2. Depending on when you run this, you might get a negative density altitude. What does that mean in terms of performance for the aircraft?\n",
        "3.\n"
      ],
      "metadata": {
        "id": "IKm1FEzPhJrM"
      }
    }
  ]
}